{
 "cells": [
  {
   "cell_type": "code",
   "execution_count": 505,
   "metadata": {
    "colab": {},
    "colab_type": "code",
    "id": "IPE1B86WjTSy"
   },
   "outputs": [],
   "source": [
    "import pandas as pd\n",
    "import numpy as np\n",
    "import matplotlib.pyplot as plt\n"
   ]
  },
  {
   "cell_type": "code",
   "execution_count": 506,
   "metadata": {
    "colab": {},
    "colab_type": "code",
    "id": "i4IVSRc9QfI6"
   },
   "outputs": [],
   "source": [
    "def error_function(y_true,ypred,date):\n",
    "    #print(y_true)\n",
    "    #print(ypred)\n",
    "    import math\n",
    "    import numpy as np\n",
    "    y_true=np.array(y_true)\n",
    "    ypred=np.array(ypred)\n",
    "    diff=np.subtract(y_true,ypred)\n",
    "    sqdiff=np.square(diff)\n",
    "    #print(sqdiff)\n",
    "    k=math.log(2)/100\n",
    "    weights=[]\n",
    "    for i in range(0,len(y_true)):\n",
    "        temp=date[i].split(\"-\")\n",
    "        weights.append(math.exp(-(int((int(temp[2])+1)/96)+1)*k))\n",
    "    weights=np.array(weights)\n",
    "    product=np.dot(sqdiff,weights)\n",
    "    root_product=math.sqrt(product)\n",
    "    loss=(1/np.mean(y_true))*root_product\n",
    "    print(loss)\n",
    "    return loss\n",
    "\n"
   ]
  },
  {
   "cell_type": "code",
   "execution_count": 507,
   "metadata": {
    "colab": {
     "base_uri": "https://localhost:8080/",
     "height": 204
    },
    "colab_type": "code",
    "id": "VqpovkI-jfhA",
    "outputId": "2a16dd18-f36c-4802-b3cb-7547a45ae40c"
   },
   "outputs": [
    {
     "data": {
      "text/html": [
       "<div>\n",
       "<style scoped>\n",
       "    .dataframe tbody tr th:only-of-type {\n",
       "        vertical-align: middle;\n",
       "    }\n",
       "\n",
       "    .dataframe tbody tr th {\n",
       "        vertical-align: top;\n",
       "    }\n",
       "\n",
       "    .dataframe thead th {\n",
       "        text-align: right;\n",
       "    }\n",
       "</style>\n",
       "<table border=\"1\" class=\"dataframe\">\n",
       "  <thead>\n",
       "    <tr style=\"text-align: right;\">\n",
       "      <th></th>\n",
       "      <th>timestamp</th>\n",
       "      <th>main_meter</th>\n",
       "      <th>sub_meter_1</th>\n",
       "      <th>sub_meter_2</th>\n",
       "      <th>building_number</th>\n",
       "    </tr>\n",
       "  </thead>\n",
       "  <tbody>\n",
       "    <tr>\n",
       "      <th>0</th>\n",
       "      <td>2017-04-01 00:00:00</td>\n",
       "      <td>2898.969633</td>\n",
       "      <td>1390.244624</td>\n",
       "      <td>0.000000</td>\n",
       "      <td>1</td>\n",
       "    </tr>\n",
       "    <tr>\n",
       "      <th>1</th>\n",
       "      <td>2017-04-01 00:15:00</td>\n",
       "      <td>2531.896894</td>\n",
       "      <td>1087.313897</td>\n",
       "      <td>0.000000</td>\n",
       "      <td>1</td>\n",
       "    </tr>\n",
       "    <tr>\n",
       "      <th>2</th>\n",
       "      <td>2017-04-01 00:30:00</td>\n",
       "      <td>2171.649138</td>\n",
       "      <td>695.625737</td>\n",
       "      <td>0.484790</td>\n",
       "      <td>1</td>\n",
       "    </tr>\n",
       "    <tr>\n",
       "      <th>3</th>\n",
       "      <td>2017-04-01 00:45:00</td>\n",
       "      <td>2207.299159</td>\n",
       "      <td>615.496571</td>\n",
       "      <td>1.317875</td>\n",
       "      <td>1</td>\n",
       "    </tr>\n",
       "    <tr>\n",
       "      <th>4</th>\n",
       "      <td>2017-04-01 01:00:00</td>\n",
       "      <td>2839.441067</td>\n",
       "      <td>1071.573744</td>\n",
       "      <td>0.000000</td>\n",
       "      <td>1</td>\n",
       "    </tr>\n",
       "  </tbody>\n",
       "</table>\n",
       "</div>"
      ],
      "text/plain": [
       "             timestamp   main_meter  sub_meter_1  sub_meter_2  building_number\n",
       "0  2017-04-01 00:00:00  2898.969633  1390.244624     0.000000                1\n",
       "1  2017-04-01 00:15:00  2531.896894  1087.313897     0.000000                1\n",
       "2  2017-04-01 00:30:00  2171.649138   695.625737     0.484790                1\n",
       "3  2017-04-01 00:45:00  2207.299159   615.496571     1.317875                1\n",
       "4  2017-04-01 01:00:00  2839.441067  1071.573744     0.000000                1"
      ]
     },
     "execution_count": 507,
     "metadata": {},
     "output_type": "execute_result"
    }
   ],
   "source": [
    "dataset= pd.read_csv('train.csv')\n",
    "dataset.head()"
   ]
  },
  {
   "cell_type": "code",
   "execution_count": 508,
   "metadata": {
    "colab": {},
    "colab_type": "code",
    "id": "q82eA84KoCdN"
   },
   "outputs": [],
   "source": [
    "# date=dataset['timestamp']\n",
    "# date.head()\n",
    "dataset['Dates'] = pd.to_datetime(dataset['timestamp']).dt.date\n",
    "dataset['Time'] = pd.to_datetime(dataset['timestamp']).dt.time\n",
    "# date[\"Dates\"][:]"
   ]
  },
  {
   "cell_type": "code",
   "execution_count": 509,
   "metadata": {
    "colab": {
     "base_uri": "https://localhost:8080/",
     "height": 119
    },
    "colab_type": "code",
    "id": "M2tuAkdxiKGB",
    "outputId": "b95689be-90ce-4c9a-9ffa-7cb1a63b8b43"
   },
   "outputs": [
    {
     "data": {
      "text/plain": [
       "0    2017-04-01\n",
       "1    2017-04-01\n",
       "2    2017-04-01\n",
       "3    2017-04-01\n",
       "4    2017-04-01\n",
       "Name: Dates, dtype: object"
      ]
     },
     "execution_count": 509,
     "metadata": {},
     "output_type": "execute_result"
    }
   ],
   "source": [
    "date = dataset['Dates']\n",
    "date.head()"
   ]
  },
  {
   "cell_type": "code",
   "execution_count": 510,
   "metadata": {
    "colab": {},
    "colab_type": "code",
    "id": "Hm8Q7qKalJiE"
   },
   "outputs": [],
   "source": [
    "# dataset.dtypes\n",
    "dataset.index = pd.to_datetime(dataset['timestamp'])"
   ]
  },
  {
   "cell_type": "code",
   "execution_count": 511,
   "metadata": {
    "colab": {
     "base_uri": "https://localhost:8080/",
     "height": 221
    },
    "colab_type": "code",
    "id": "f8gi1nvvlqRV",
    "outputId": "0aabb88b-8320-4ea4-8e7f-756d369d4cf0"
   },
   "outputs": [
    {
     "data": {
      "text/plain": [
       "DatetimeIndex(['2017-04-01 00:00:00', '2017-04-01 00:15:00',\n",
       "               '2017-04-01 00:30:00', '2017-04-01 00:45:00',\n",
       "               '2017-04-01 01:00:00', '2017-04-01 01:15:00',\n",
       "               '2017-04-01 01:30:00', '2017-04-01 01:45:00',\n",
       "               '2017-04-01 02:00:00', '2017-04-01 02:15:00',\n",
       "               ...\n",
       "               '2017-12-31 21:30:00', '2017-12-31 21:45:00',\n",
       "               '2017-12-31 22:00:00', '2017-12-31 22:15:00',\n",
       "               '2017-12-31 22:30:00', '2017-12-31 22:45:00',\n",
       "               '2017-12-31 23:00:00', '2017-12-31 23:15:00',\n",
       "               '2017-12-31 23:30:00', '2017-12-31 23:45:00'],\n",
       "              dtype='datetime64[ns]', name='timestamp', length=132000, freq=None)"
      ]
     },
     "execution_count": 511,
     "metadata": {},
     "output_type": "execute_result"
    }
   ],
   "source": [
    "dataset.index"
   ]
  },
  {
   "cell_type": "code",
   "execution_count": 512,
   "metadata": {
    "colab": {},
    "colab_type": "code",
    "id": "_YHIB4kfM-B_"
   },
   "outputs": [],
   "source": [
    "#viewing the column names\n",
    "list(dataset.columns.values)\n",
    "b1=dataset.loc[dataset['building_number'] == 4]\n"
   ]
  },
  {
   "cell_type": "code",
   "execution_count": 513,
   "metadata": {
    "colab": {},
    "colab_type": "code",
    "id": "SyPRJ95WPMs9"
   },
   "outputs": [],
   "source": [
    "b1=b1.drop(['building_number'],axis=1)\n",
    "\n"
   ]
  },
  {
   "cell_type": "code",
   "execution_count": 514,
   "metadata": {
    "colab": {},
    "colab_type": "code",
    "id": "ly8BNNz0DsH3"
   },
   "outputs": [],
   "source": [
    "b1m=b1['main_meter']\n",
    "b1s1=b1['sub_meter_1']\n",
    "b1s2=b1['sub_meter_2']\n",
    "\n",
    "\n",
    "\n"
   ]
  },
  {
   "cell_type": "code",
   "execution_count": 515,
   "metadata": {
    "colab": {},
    "colab_type": "code",
    "id": "9p7zRwF0ItqC"
   },
   "outputs": [],
   "source": [
    "from statsmodels.tsa.stattools import adfuller\n",
    "def test_stationarity(timeseries):\n",
    "    \n",
    "    #Determing rolling statistics\n",
    "    rolmean = pd.Series(timeseries).rolling(window=96).mean()\n",
    "    rolstd = pd.Series(timeseries).rolling(window=96).std() \n",
    "    \n",
    "    #Plot rolling statistics:\n",
    "    orig = plt.plot(timeseries, color='blue',label='Original')\n",
    "    mean = plt.plot(rolmean, color='red', label='Rolling Mean')\n",
    "    std = plt.plot(rolstd, color='black', label = 'Rolling Std')\n",
    "    plt.legend(loc='best')\n",
    "    plt.title('Rolling Mean & Standard Deviation')\n",
    "    plt.show(block=False)\n",
    "    \n",
    "    #Perform Dickey-Fuller test:\n",
    "    print ('Results of Dickey-Fuller Test:')\n",
    "    dftest = adfuller(timeseries, autolag='AIC')\n",
    "    dfoutput = pd.Series(dftest[0:4], index=['Test Statistic','p-value','#Lags Used','Number of Observations Used'])\n",
    "    for key,value in dftest[4].items():\n",
    "        dfoutput['Critical Value (%s)'%key] = value\n",
    "    print (dfoutput)"
   ]
  },
  {
   "cell_type": "code",
   "execution_count": 516,
   "metadata": {
    "colab": {
     "base_uri": "https://localhost:8080/",
     "height": 434
    },
    "colab_type": "code",
    "id": "F3P4ib27JWdt",
    "outputId": "3be90fea-a7b8-4769-dbba-d56f45cadc47"
   },
   "outputs": [
    {
     "data": {
      "image/png": "[encoded data removed]",
      "text/plain": [
       "<Figure size 432x288 with 1 Axes>"
      ]
     },
     "metadata": {
      "needs_background": "light"
     },
     "output_type": "display_data"
    },
    {
     "name": "stdout",
     "output_type": "stream",
     "text": [
      "Results of Dickey-Fuller Test:\n",
      "Test Statistic                   -30.172392\n",
      "p-value                            0.000000\n",
      "#Lags Used                        49.000000\n",
      "Number of Observations Used    26350.000000\n",
      "Critical Value (1%)               -3.430598\n",
      "Critical Value (5%)               -2.861650\n",
      "Critical Value (10%)              -2.566828\n",
      "dtype: float64\n"
     ]
    }
   ],
   "source": [
    "test_stationarity(b1s1) # p value should be less than 0.05 at least to maintain stationarity"
   ]
  },
  {
   "cell_type": "code",
   "execution_count": 517,
   "metadata": {
    "colab": {
     "base_uri": "https://localhost:8080/",
     "height": 119
    },
    "colab_type": "code",
    "id": "jHv4ITz5VU_D",
    "outputId": "a3148328-1ef8-4306-fd53-e7e185545e67"
   },
   "outputs": [
    {
     "data": {
      "text/plain": [
       "timestamp\n",
       "2017-04-01 00:00:00     0.000000\n",
       "2017-04-01 00:15:00    15.644386\n",
       "2017-04-01 00:30:00     8.909244\n",
       "2017-04-01 00:45:00     0.000000\n",
       "2017-04-01 01:00:00     8.430219\n",
       "Name: sub_meter_1, dtype: float64"
      ]
     },
     "execution_count": 517,
     "metadata": {},
     "output_type": "execute_result"
    }
   ],
   "source": [
    "b1s1.head()"
   ]
  },
  {
   "cell_type": "code",
   "execution_count": 518,
   "metadata": {
    "colab": {},
    "colab_type": "code",
    "id": "Z06DldgqV-br"
   },
   "outputs": [],
   "source": [
    "b1s1=b1s1.mask(b1s1==0).fillna(b1s1.mode())"
   ]
  },
  {
   "cell_type": "code",
   "execution_count": 519,
   "metadata": {
    "colab": {
     "base_uri": "https://localhost:8080/",
     "height": 282
    },
    "colab_type": "code",
    "id": "OpCWnovWJa-X",
    "outputId": "09d3e9a0-c648-425f-808d-51ba814beb26"
   },
   "outputs": [
    {
     "data": {
      "image/png": "[encoded data removed]",
      "text/plain": [
       "<Figure size 432x288 with 1 Axes>"
      ]
     },
     "metadata": {
      "needs_background": "light"
     },
     "output_type": "display_data"
    }
   ],
   "source": [
    "b1m_log = np.log(b1s1)\n",
    "plt.plot(b1m_log)\n",
    "b1m_log.dropna(inplace=True)"
   ]
  },
  {
   "cell_type": "code",
   "execution_count": 520,
   "metadata": {},
   "outputs": [],
   "source": [
    "b1m_log=b1m_log.mask(b1m_log==0).fillna(b1m_log.mean)"
   ]
  },
  {
   "cell_type": "code",
   "execution_count": 521,
   "metadata": {
    "colab": {
     "base_uri": "https://localhost:8080/",
     "height": 434
    },
    "colab_type": "code",
    "id": "bGZN9FJ7GTMx",
    "outputId": "1fca8fc8-a372-46b2-d7fe-f0a65d777d4c"
   },
   "outputs": [
    {
     "data": {
      "image/png": "[encoded data removed]",
      "text/plain": [
       "<Figure size 432x288 with 1 Axes>"
      ]
     },
     "metadata": {
      "needs_background": "light"
     },
     "output_type": "display_data"
    },
    {
     "name": "stdout",
     "output_type": "stream",
     "text": [
      "Results of Dickey-Fuller Test:\n",
      "Test Statistic                   -32.900658\n",
      "p-value                            0.000000\n",
      "#Lags Used                        47.000000\n",
      "Number of Observations Used    22439.000000\n",
      "Critical Value (1%)               -3.430641\n",
      "Critical Value (5%)               -2.861669\n",
      "Critical Value (10%)              -2.566839\n",
      "dtype: float64\n"
     ]
    }
   ],
   "source": [
    "b1m_log = b1m_log.fillna(method='ffill')\n",
    "b1m_log.dropna(inplace=True)\n",
    "b1m_log=b1m_log[b1m_log != 0]\n",
    "test_stationarity(b1m_log)\n"
   ]
  },
  {
   "cell_type": "code",
   "execution_count": 531,
   "metadata": {
    "colab": {},
    "colab_type": "code",
    "id": "7vjo8ZDOmObl"
   },
   "outputs": [],
   "source": [
    "b1m_log_diff= b1m_log-b1m_log.shift()\n",
    "b1m_log_diff.dropna(inplace=True)"
   ]
  },
  {
   "cell_type": "code",
   "execution_count": 532,
   "metadata": {
    "colab": {
     "base_uri": "https://localhost:8080/",
     "height": 71
    },
    "colab_type": "code",
    "id": "bTqGDIi0KrYp",
    "outputId": "e3e1892d-fe8e-4915-c032-e240a33bab11"
   },
   "outputs": [],
   "source": [
    "#ACF and PACF plots:\n",
    "from statsmodels.tsa.stattools import acf, pacf\n",
    "lag_acf = acf(b1m_log_diff, nlags=40)\n",
    "lag_pacf = pacf(b1m_log_diff, nlags=40, method='ols')\n"
   ]
  },
  {
   "cell_type": "code",
   "execution_count": 533,
   "metadata": {
    "colab": {
     "base_uri": "https://localhost:8080/",
     "height": 297
    },
    "colab_type": "code",
    "id": "YXTgfCMYLSge",
    "outputId": "0d8e21f9-039f-45b5-c858-79998b99e66b"
   },
   "outputs": [
    {
     "data": {
      "image/png": "[encoded data removed]",
      "text/plain": [
       "<Figure size 432x288 with 2 Axes>"
      ]
     },
     "metadata": {
      "needs_background": "light"
     },
     "output_type": "display_data"
    }
   ],
   "source": [
    "#Plot ACF: \n",
    "plt.subplot(121) \n",
    "# plt.figure(figsize=(20,10))\n",
    "plt.plot(lag_acf)\n",
    "plt.axhline(y=0,linestyle='--',color='gray')\n",
    "plt.axhline(y=-1.96/np.sqrt(len(b1m_log)),linestyle='--',color='gray')\n",
    "plt.axhline(y=1.96/np.sqrt(len(b1m_log)),linestyle='--',color='gray')\n",
    "plt.title('Autocorrelation Function')\n",
    "\n",
    "#Plot PACF:\n",
    "plt.subplot(122)\n",
    "plt.plot(lag_pacf)\n",
    "plt.axhline(y=0,linestyle='--',color='gray')\n",
    "plt.axhline(y=-1.96/np.sqrt(len(b1m_log)),linestyle='--',color='gray')\n",
    "plt.axhline(y=1.96/np.sqrt(len(b1m_log)),linestyle='--',color='gray')\n",
    "plt.title('Partial Autocorrelation Function')\n",
    "plt.tight_layout()"
   ]
  },
  {
   "cell_type": "code",
   "execution_count": 546,
   "metadata": {
    "colab": {},
    "colab_type": "code",
    "id": "Ml3odeJQcCgH"
   },
   "outputs": [],
   "source": [
    "train_b1m=b1m_log.loc['2017-04-08':'2017-10-31']\n",
    "test_b1m=b1m_log.loc['2017-10-31':'2017-12-31']\n",
    "train_dates=date[16954:20544]"
   ]
  },
  {
   "cell_type": "code",
   "execution_count": 558,
   "metadata": {
    "colab": {
     "base_uri": "https://localhost:8080/",
     "height": 34
    },
    "colab_type": "code",
    "id": "x50h6sGkrgvs",
    "outputId": "a7f8ba0a-5568-45f7-d205-c58da8fd6dca"
   },
   "outputs": [
    {
     "name": "stdout",
     "output_type": "stream",
     "text": [
      "<class 'str'>\n"
     ]
    }
   ],
   "source": [
    "final_dates=[]\n",
    "for i in range(0,len(train_dates)):\n",
    "  final_dates.append(str(train_dates[i]))\n",
    "print(type(final_dates[0]))"
   ]
  },
  {
   "cell_type": "code",
   "execution_count": 536,
   "metadata": {
    "colab": {},
    "colab_type": "code",
    "id": "7cUxy4zULWcs"
   },
   "outputs": [],
   "source": [
    "from statsmodels.tsa.arima_model import ARIMA"
   ]
  },
  {
   "cell_type": "code",
   "execution_count": 537,
   "metadata": {
    "colab": {
     "base_uri": "https://localhost:8080/",
     "height": 374
    },
    "colab_type": "code",
    "id": "UNYp4r1XM6gD",
    "outputId": "11ca5862-2dda-444b-b60c-7f55244cf24f"
   },
   "outputs": [
    {
     "name": "stderr",
     "output_type": "stream",
     "text": [
      "C:\\Users\\ianki\\Anaconda3\\lib\\site-packages\\statsmodels\\tsa\\base\\tsa_model.py:225: ValueWarning: A date index has been provided, but it has no associated frequency information and so will be ignored when e.g. forecasting.\n",
      "  ' ignored when e.g. forecasting.', ValueWarning)\n",
      "C:\\Users\\ianki\\Anaconda3\\lib\\site-packages\\statsmodels\\tsa\\base\\tsa_model.py:225: ValueWarning: A date index has been provided, but it has no associated frequency information and so will be ignored when e.g. forecasting.\n",
      "  ' ignored when e.g. forecasting.', ValueWarning)\n"
     ]
    },
    {
     "name": "stdout",
     "output_type": "stream",
     "text": [
      "90.6689556806144\n",
      "Score: 90.669\n"
     ]
    }
   ],
   "source": [
    "model=ARIMA(train_b1m,order=(1,1,1))\n",
    "model_fit=model.fit(disp=0)\n",
    "output=model_fit.forecast(len(test_b1m)) \n",
    "ypred=np.exp(output[0])\n",
    "error= error_function(np.exp(test_b1m),ypred,final_dates)\n",
    "print('Score: %.3f' % error)"
   ]
  }
 ],
 "metadata": {
  "accelerator": "GPU",
  "colab": {
   "name": "Copy of GC_ARIMA.ipynb",
   "provenance": []
  },
  "kernelspec": {
   "display_name": "Python 3",
   "language": "python",
   "name": "python3"
  },
  "language_info": {
   "codemirror_mode": {
    "name": "ipython",
    "version": 3
   },
   "file_extension": ".py",
   "mimetype": "text/x-python",
   "name": "python",
   "nbconvert_exporter": "python",
   "pygments_lexer": "ipython3",
   "version": "3.7.1"
  }
 },
 "nbformat": 4,
 "nbformat_minor": 1
}
