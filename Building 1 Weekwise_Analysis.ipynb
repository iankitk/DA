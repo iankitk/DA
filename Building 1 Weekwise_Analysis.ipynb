{
 "cells": [
  {
   "cell_type": "code",
   "execution_count": 1,
   "metadata": {},
   "outputs": [],
   "source": [
    "import seaborn as sns\n",
    "import matplotlib.pyplot as plt\n",
    "from datetime import datetime\n",
    "import pandas as pd\n",
    "import numpy as np\n",
    "%matplotlib inline"
   ]
  },
  {
   "cell_type": "code",
   "execution_count": 2,
   "metadata": {},
   "outputs": [
    {
     "data": {
      "text/html": [
       "<div>\n",
       "<style scoped>\n",
       "    .dataframe tbody tr th:only-of-type {\n",
       "        vertical-align: middle;\n",
       "    }\n",
       "\n",
       "    .dataframe tbody tr th {\n",
       "        vertical-align: top;\n",
       "    }\n",
       "\n",
       "    .dataframe thead th {\n",
       "        text-align: right;\n",
       "    }\n",
       "</style>\n",
       "<table border=\"1\" class=\"dataframe\">\n",
       "  <thead>\n",
       "    <tr style=\"text-align: right;\">\n",
       "      <th></th>\n",
       "      <th>main_meter</th>\n",
       "      <th>Date</th>\n",
       "      <th>Time</th>\n",
       "    </tr>\n",
       "  </thead>\n",
       "  <tbody>\n",
       "    <tr>\n",
       "      <th>0</th>\n",
       "      <td>2898.969633</td>\n",
       "      <td>2017-04-01</td>\n",
       "      <td>00:00:00</td>\n",
       "    </tr>\n",
       "    <tr>\n",
       "      <th>1</th>\n",
       "      <td>2531.896894</td>\n",
       "      <td>2017-04-01</td>\n",
       "      <td>00:15:00</td>\n",
       "    </tr>\n",
       "    <tr>\n",
       "      <th>2</th>\n",
       "      <td>2171.649138</td>\n",
       "      <td>2017-04-01</td>\n",
       "      <td>00:30:00</td>\n",
       "    </tr>\n",
       "    <tr>\n",
       "      <th>3</th>\n",
       "      <td>2207.299159</td>\n",
       "      <td>2017-04-01</td>\n",
       "      <td>00:45:00</td>\n",
       "    </tr>\n",
       "    <tr>\n",
       "      <th>4</th>\n",
       "      <td>2839.441067</td>\n",
       "      <td>2017-04-01</td>\n",
       "      <td>01:00:00</td>\n",
       "    </tr>\n",
       "  </tbody>\n",
       "</table>\n",
       "</div>"
      ],
      "text/plain": [
       "    main_meter        Date      Time\n",
       "0  2898.969633  2017-04-01  00:00:00\n",
       "1  2531.896894  2017-04-01  00:15:00\n",
       "2  2171.649138  2017-04-01  00:30:00\n",
       "3  2207.299159  2017-04-01  00:45:00\n",
       "4  2839.441067  2017-04-01  01:00:00"
      ]
     },
     "execution_count": 2,
     "metadata": {},
     "output_type": "execute_result"
    }
   ],
   "source": [
    "df = pd.read_csv('train.csv')\n",
    "df=df.iloc[0:26400,0:3]\n",
    "df[['Date', 'Time']]=df.timestamp.str.split(expand=True)\n",
    "df=df.drop(['timestamp','sub_meter_1'], axis=1)\n",
    "df.head()"
   ]
  },
  {
   "cell_type": "code",
   "execution_count": 3,
   "metadata": {},
   "outputs": [],
   "source": [
    "temp1=df.iloc[0:96]\n",
    "temp2=df.iloc[97:193]\n",
    "temp3=df.iloc[193:289]\n",
    "temp4=df.iloc[289:385]"
   ]
  },
  {
   "cell_type": "code",
   "execution_count": 4,
   "metadata": {},
   "outputs": [
    {
     "data": {
      "text/html": [
       "<div>\n",
       "<style scoped>\n",
       "    .dataframe tbody tr th:only-of-type {\n",
       "        vertical-align: middle;\n",
       "    }\n",
       "\n",
       "    .dataframe tbody tr th {\n",
       "        vertical-align: top;\n",
       "    }\n",
       "\n",
       "    .dataframe thead th {\n",
       "        text-align: right;\n",
       "    }\n",
       "</style>\n",
       "<table border=\"1\" class=\"dataframe\">\n",
       "  <thead>\n",
       "    <tr style=\"text-align: right;\">\n",
       "      <th></th>\n",
       "      <th>main_meter</th>\n",
       "      <th>Date</th>\n",
       "      <th>Time</th>\n",
       "    </tr>\n",
       "  </thead>\n",
       "  <tbody>\n",
       "    <tr>\n",
       "      <th>97</th>\n",
       "      <td>2501.370475</td>\n",
       "      <td>2017-04-02</td>\n",
       "      <td>00:15:00</td>\n",
       "    </tr>\n",
       "    <tr>\n",
       "      <th>98</th>\n",
       "      <td>2307.187536</td>\n",
       "      <td>2017-04-02</td>\n",
       "      <td>00:30:00</td>\n",
       "    </tr>\n",
       "    <tr>\n",
       "      <th>99</th>\n",
       "      <td>2352.950174</td>\n",
       "      <td>2017-04-02</td>\n",
       "      <td>00:45:00</td>\n",
       "    </tr>\n",
       "    <tr>\n",
       "      <th>100</th>\n",
       "      <td>2939.140376</td>\n",
       "      <td>2017-04-02</td>\n",
       "      <td>01:00:00</td>\n",
       "    </tr>\n",
       "    <tr>\n",
       "      <th>101</th>\n",
       "      <td>3023.233986</td>\n",
       "      <td>2017-04-02</td>\n",
       "      <td>01:15:00</td>\n",
       "    </tr>\n",
       "  </tbody>\n",
       "</table>\n",
       "</div>"
      ],
      "text/plain": [
       "      main_meter        Date      Time\n",
       "97   2501.370475  2017-04-02  00:15:00\n",
       "98   2307.187536  2017-04-02  00:30:00\n",
       "99   2352.950174  2017-04-02  00:45:00\n",
       "100  2939.140376  2017-04-02  01:00:00\n",
       "101  3023.233986  2017-04-02  01:15:00"
      ]
     },
     "execution_count": 4,
     "metadata": {},
     "output_type": "execute_result"
    }
   ],
   "source": [
    "temp2.head()"
   ]
  },
  {
   "cell_type": "code",
   "execution_count": 5,
   "metadata": {},
   "outputs": [],
   "source": [
    "x = range(96)"
   ]
  },
  {
   "cell_type": "code",
   "execution_count": 6,
   "metadata": {
    "scrolled": false
   },
   "outputs": [
    {
     "ename": "KeyError",
     "evalue": "'sub_meter_1'",
     "output_type": "error",
     "traceback": [
      "\u001b[1;31m---------------------------------------------------------------------------\u001b[0m",
      "\u001b[1;31mKeyError\u001b[0m                                  Traceback (most recent call last)",
      "\u001b[1;32m~\\Anaconda3\\lib\\site-packages\\pandas\\core\\indexes\\base.py\u001b[0m in \u001b[0;36mget_loc\u001b[1;34m(self, key, method, tolerance)\u001b[0m\n\u001b[0;32m   2896\u001b[0m             \u001b[1;32mtry\u001b[0m\u001b[1;33m:\u001b[0m\u001b[1;33m\u001b[0m\u001b[1;33m\u001b[0m\u001b[0m\n\u001b[1;32m-> 2897\u001b[1;33m                 \u001b[1;32mreturn\u001b[0m \u001b[0mself\u001b[0m\u001b[1;33m.\u001b[0m\u001b[0m_engine\u001b[0m\u001b[1;33m.\u001b[0m\u001b[0mget_loc\u001b[0m\u001b[1;33m(\u001b[0m\u001b[0mkey\u001b[0m\u001b[1;33m)\u001b[0m\u001b[1;33m\u001b[0m\u001b[1;33m\u001b[0m\u001b[0m\n\u001b[0m\u001b[0;32m   2898\u001b[0m             \u001b[1;32mexcept\u001b[0m \u001b[0mKeyError\u001b[0m\u001b[1;33m:\u001b[0m\u001b[1;33m\u001b[0m\u001b[1;33m\u001b[0m\u001b[0m\n",
      "\u001b[1;32mpandas/_libs/index.pyx\u001b[0m in \u001b[0;36mpandas._libs.index.IndexEngine.get_loc\u001b[1;34m()\u001b[0m\n",
      "\u001b[1;32mpandas/_libs/index.pyx\u001b[0m in \u001b[0;36mpandas._libs.index.IndexEngine.get_loc\u001b[1;34m()\u001b[0m\n",
      "\u001b[1;32mpandas/_libs/hashtable_class_helper.pxi\u001b[0m in \u001b[0;36mpandas._libs.hashtable.PyObjectHashTable.get_item\u001b[1;34m()\u001b[0m\n",
      "\u001b[1;32mpandas/_libs/hashtable_class_helper.pxi\u001b[0m in \u001b[0;36mpandas._libs.hashtable.PyObjectHashTable.get_item\u001b[1;34m()\u001b[0m\n",
      "\u001b[1;31mKeyError\u001b[0m: 'sub_meter_1'",
      "\nDuring handling of the above exception, another exception occurred:\n",
      "\u001b[1;31mKeyError\u001b[0m                                  Traceback (most recent call last)",
      "\u001b[1;32m<ipython-input-6-ab4cf6bf0b27>\u001b[0m in \u001b[0;36m<module>\u001b[1;34m\u001b[0m\n\u001b[0;32m     11\u001b[0m \u001b[1;33m\u001b[0m\u001b[0m\n\u001b[0;32m     12\u001b[0m \u001b[1;33m\u001b[0m\u001b[0m\n\u001b[1;32m---> 13\u001b[1;33m \u001b[0mplt\u001b[0m\u001b[1;33m.\u001b[0m\u001b[0mplot\u001b[0m\u001b[1;33m(\u001b[0m\u001b[0mx\u001b[0m\u001b[1;33m,\u001b[0m\u001b[0mtemp1\u001b[0m\u001b[1;33m[\u001b[0m\u001b[1;34m'sub_meter_1'\u001b[0m\u001b[1;33m]\u001b[0m\u001b[1;33m,\u001b[0m \u001b[0mlabel\u001b[0m\u001b[1;33m=\u001b[0m\u001b[1;34m'sat'\u001b[0m\u001b[1;33m)\u001b[0m\u001b[1;33m\u001b[0m\u001b[1;33m\u001b[0m\u001b[0m\n\u001b[0m\u001b[0;32m     14\u001b[0m \u001b[0mplt\u001b[0m\u001b[1;33m.\u001b[0m\u001b[0mplot\u001b[0m\u001b[1;33m(\u001b[0m\u001b[0mx\u001b[0m\u001b[1;33m,\u001b[0m\u001b[0mtemp2\u001b[0m\u001b[1;33m[\u001b[0m\u001b[1;34m'sub_meter_1'\u001b[0m\u001b[1;33m]\u001b[0m\u001b[1;33m,\u001b[0m \u001b[0mlabel\u001b[0m\u001b[1;33m=\u001b[0m\u001b[1;34m'sun'\u001b[0m\u001b[1;33m)\u001b[0m\u001b[1;33m\u001b[0m\u001b[1;33m\u001b[0m\u001b[0m\n\u001b[0;32m     15\u001b[0m \u001b[0mplt\u001b[0m\u001b[1;33m.\u001b[0m\u001b[0mplot\u001b[0m\u001b[1;33m(\u001b[0m\u001b[0mx\u001b[0m\u001b[1;33m,\u001b[0m\u001b[0mtemp3\u001b[0m\u001b[1;33m[\u001b[0m\u001b[1;34m'sub_meter_1'\u001b[0m\u001b[1;33m]\u001b[0m\u001b[1;33m,\u001b[0m \u001b[0mlabel\u001b[0m\u001b[1;33m=\u001b[0m\u001b[1;34m'mon'\u001b[0m\u001b[1;33m)\u001b[0m\u001b[1;33m\u001b[0m\u001b[1;33m\u001b[0m\u001b[0m\n",
      "\u001b[1;32m~\\Anaconda3\\lib\\site-packages\\pandas\\core\\frame.py\u001b[0m in \u001b[0;36m__getitem__\u001b[1;34m(self, key)\u001b[0m\n\u001b[0;32m   2993\u001b[0m             \u001b[1;32mif\u001b[0m \u001b[0mself\u001b[0m\u001b[1;33m.\u001b[0m\u001b[0mcolumns\u001b[0m\u001b[1;33m.\u001b[0m\u001b[0mnlevels\u001b[0m \u001b[1;33m>\u001b[0m \u001b[1;36m1\u001b[0m\u001b[1;33m:\u001b[0m\u001b[1;33m\u001b[0m\u001b[1;33m\u001b[0m\u001b[0m\n\u001b[0;32m   2994\u001b[0m                 \u001b[1;32mreturn\u001b[0m \u001b[0mself\u001b[0m\u001b[1;33m.\u001b[0m\u001b[0m_getitem_multilevel\u001b[0m\u001b[1;33m(\u001b[0m\u001b[0mkey\u001b[0m\u001b[1;33m)\u001b[0m\u001b[1;33m\u001b[0m\u001b[1;33m\u001b[0m\u001b[0m\n\u001b[1;32m-> 2995\u001b[1;33m             \u001b[0mindexer\u001b[0m \u001b[1;33m=\u001b[0m \u001b[0mself\u001b[0m\u001b[1;33m.\u001b[0m\u001b[0mcolumns\u001b[0m\u001b[1;33m.\u001b[0m\u001b[0mget_loc\u001b[0m\u001b[1;33m(\u001b[0m\u001b[0mkey\u001b[0m\u001b[1;33m)\u001b[0m\u001b[1;33m\u001b[0m\u001b[1;33m\u001b[0m\u001b[0m\n\u001b[0m\u001b[0;32m   2996\u001b[0m             \u001b[1;32mif\u001b[0m \u001b[0mis_integer\u001b[0m\u001b[1;33m(\u001b[0m\u001b[0mindexer\u001b[0m\u001b[1;33m)\u001b[0m\u001b[1;33m:\u001b[0m\u001b[1;33m\u001b[0m\u001b[1;33m\u001b[0m\u001b[0m\n\u001b[0;32m   2997\u001b[0m                 \u001b[0mindexer\u001b[0m \u001b[1;33m=\u001b[0m \u001b[1;33m[\u001b[0m\u001b[0mindexer\u001b[0m\u001b[1;33m]\u001b[0m\u001b[1;33m\u001b[0m\u001b[1;33m\u001b[0m\u001b[0m\n",
      "\u001b[1;32m~\\Anaconda3\\lib\\site-packages\\pandas\\core\\indexes\\base.py\u001b[0m in \u001b[0;36mget_loc\u001b[1;34m(self, key, method, tolerance)\u001b[0m\n\u001b[0;32m   2897\u001b[0m                 \u001b[1;32mreturn\u001b[0m \u001b[0mself\u001b[0m\u001b[1;33m.\u001b[0m\u001b[0m_engine\u001b[0m\u001b[1;33m.\u001b[0m\u001b[0mget_loc\u001b[0m\u001b[1;33m(\u001b[0m\u001b[0mkey\u001b[0m\u001b[1;33m)\u001b[0m\u001b[1;33m\u001b[0m\u001b[1;33m\u001b[0m\u001b[0m\n\u001b[0;32m   2898\u001b[0m             \u001b[1;32mexcept\u001b[0m \u001b[0mKeyError\u001b[0m\u001b[1;33m:\u001b[0m\u001b[1;33m\u001b[0m\u001b[1;33m\u001b[0m\u001b[0m\n\u001b[1;32m-> 2899\u001b[1;33m                 \u001b[1;32mreturn\u001b[0m \u001b[0mself\u001b[0m\u001b[1;33m.\u001b[0m\u001b[0m_engine\u001b[0m\u001b[1;33m.\u001b[0m\u001b[0mget_loc\u001b[0m\u001b[1;33m(\u001b[0m\u001b[0mself\u001b[0m\u001b[1;33m.\u001b[0m\u001b[0m_maybe_cast_indexer\u001b[0m\u001b[1;33m(\u001b[0m\u001b[0mkey\u001b[0m\u001b[1;33m)\u001b[0m\u001b[1;33m)\u001b[0m\u001b[1;33m\u001b[0m\u001b[1;33m\u001b[0m\u001b[0m\n\u001b[0m\u001b[0;32m   2900\u001b[0m         \u001b[0mindexer\u001b[0m \u001b[1;33m=\u001b[0m \u001b[0mself\u001b[0m\u001b[1;33m.\u001b[0m\u001b[0mget_indexer\u001b[0m\u001b[1;33m(\u001b[0m\u001b[1;33m[\u001b[0m\u001b[0mkey\u001b[0m\u001b[1;33m]\u001b[0m\u001b[1;33m,\u001b[0m \u001b[0mmethod\u001b[0m\u001b[1;33m=\u001b[0m\u001b[0mmethod\u001b[0m\u001b[1;33m,\u001b[0m \u001b[0mtolerance\u001b[0m\u001b[1;33m=\u001b[0m\u001b[0mtolerance\u001b[0m\u001b[1;33m)\u001b[0m\u001b[1;33m\u001b[0m\u001b[1;33m\u001b[0m\u001b[0m\n\u001b[0;32m   2901\u001b[0m         \u001b[1;32mif\u001b[0m \u001b[0mindexer\u001b[0m\u001b[1;33m.\u001b[0m\u001b[0mndim\u001b[0m \u001b[1;33m>\u001b[0m \u001b[1;36m1\u001b[0m \u001b[1;32mor\u001b[0m \u001b[0mindexer\u001b[0m\u001b[1;33m.\u001b[0m\u001b[0msize\u001b[0m \u001b[1;33m>\u001b[0m \u001b[1;36m1\u001b[0m\u001b[1;33m:\u001b[0m\u001b[1;33m\u001b[0m\u001b[1;33m\u001b[0m\u001b[0m\n",
      "\u001b[1;32mpandas/_libs/index.pyx\u001b[0m in \u001b[0;36mpandas._libs.index.IndexEngine.get_loc\u001b[1;34m()\u001b[0m\n",
      "\u001b[1;32mpandas/_libs/index.pyx\u001b[0m in \u001b[0;36mpandas._libs.index.IndexEngine.get_loc\u001b[1;34m()\u001b[0m\n",
      "\u001b[1;32mpandas/_libs/hashtable_class_helper.pxi\u001b[0m in \u001b[0;36mpandas._libs.hashtable.PyObjectHashTable.get_item\u001b[1;34m()\u001b[0m\n",
      "\u001b[1;32mpandas/_libs/hashtable_class_helper.pxi\u001b[0m in \u001b[0;36mpandas._libs.hashtable.PyObjectHashTable.get_item\u001b[1;34m()\u001b[0m\n",
      "\u001b[1;31mKeyError\u001b[0m: 'sub_meter_1'"
     ]
    }
   ],
   "source": [
    "\n",
    "i=0\n",
    "temp1=df.iloc[i:i+96]\n",
    "temp2=df.iloc[i+97:i+193]\n",
    "temp3=df.iloc[i+193:i+289]\n",
    "temp4=df.iloc[i+289:i+385]\n",
    "temp5=df.iloc[i+385:i+481]\n",
    "temp6=df.iloc[i+480:i+576]\n",
    "temp7=df.iloc[i+576:i+672]\n",
    "\n",
    "\n",
    "\n",
    "plt.plot(x,temp1['sub_meter_1'], label='sat')\n",
    "plt.plot(x,temp2['sub_meter_1'], label='sun')\n",
    "plt.plot(x,temp3['sub_meter_1'], label='mon')\n",
    "plt.plot(x,temp4['sub_meter_1'], label='tue')\n",
    "plt.plot(x,temp5['sub_meter_1'], label='wed')\n",
    "plt.plot(x,temp6['sub_meter_1'], label='thur')\n",
    "plt.plot(x,temp7['sub_meter_1'], label='fri')\n",
    "\n",
    "plt.legend(loc=\"upper left\")\n",
    "plt.show()"
   ]
  },
  {
   "cell_type": "code",
   "execution_count": null,
   "metadata": {},
   "outputs": [],
   "source": []
  },
  {
   "cell_type": "code",
   "execution_count": null,
   "metadata": {},
   "outputs": [],
   "source": [
    "\n",
    "i=672\n",
    "temp1=df.iloc[i:i+96]\n",
    "temp2=df.iloc[i+97:i+193]\n",
    "temp3=df.iloc[i+193:i+289]\n",
    "temp4=df.iloc[i+289:i+385]\n",
    "temp5=df.iloc[i+385:i+481]\n",
    "temp6=df.iloc[i+480:i+576]\n",
    "temp7=df.iloc[i+576:i+672]\n",
    "\n",
    "\n",
    "\n",
    "plt.plot(x,temp1['sub_meter_1'], label='sat')\n",
    "plt.plot(x,temp2['sub_meter_1'], label='sun')\n",
    "plt.plot(x,temp3['sub_meter_1'], label='mon')\n",
    "plt.plot(x,temp4['sub_meter_1'], label='tue')\n",
    "plt.plot(x,temp5['sub_meter_1'], label='wed')\n",
    "plt.plot(x,temp6['sub_meter_1'], label='thur')\n",
    "plt.plot(x,temp7['sub_meter_1'], label='fri')\n",
    "\n",
    "plt.legend(loc=\"upper left\")\n",
    "plt.show()"
   ]
  },
  {
   "cell_type": "code",
   "execution_count": null,
   "metadata": {},
   "outputs": [],
   "source": [
    "temp7.head()"
   ]
  },
  {
   "cell_type": "code",
   "execution_count": null,
   "metadata": {},
   "outputs": [],
   "source": [
    "i=672*2\n",
    "temp1=df.iloc[i:i+96]\n",
    "temp2=df.iloc[i+97:i+193]\n",
    "temp3=df.iloc[i+193:i+289]\n",
    "temp4=df.iloc[i+289:i+385]\n",
    "temp5=df.iloc[i+385:i+481]\n",
    "temp6=df.iloc[i+480:i+576]\n",
    "temp7=df.iloc[i+576:i+672]\n",
    "\n",
    "\n",
    "\n",
    "plt.plot(x,temp1['main_meter'], label='sat')\n",
    "plt.plot(x,temp2['main_meter'], label='sun')\n",
    "plt.plot(x,temp3['main_meter'], label='mon')\n",
    "plt.plot(x,temp4['main_meter'], label='tue')\n",
    "plt.plot(x,temp5['main_meter'], label='wed')\n",
    "plt.plot(x,temp6['main_meter'], label='thur')\n",
    "plt.plot(x,temp7['main_meter'], label='fri')\n",
    "\n",
    "plt.legend(loc=\"upper left\")\n",
    "plt.show()"
   ]
  },
  {
   "cell_type": "code",
   "execution_count": null,
   "metadata": {},
   "outputs": [],
   "source": [
    "temp1.head()"
   ]
  },
  {
   "cell_type": "code",
   "execution_count": null,
   "metadata": {},
   "outputs": [],
   "source": [
    "i=672*3\n",
    "temp1=df.iloc[i:i+96]\n",
    "temp2=df.iloc[i+97:i+193]\n",
    "temp3=df.iloc[i+193:i+289]\n",
    "temp4=df.iloc[i+289:i+385]\n",
    "temp5=df.iloc[i+385:i+481]\n",
    "temp6=df.iloc[i+480:i+576]\n",
    "temp7=df.iloc[i+576:i+672]\n",
    "\n",
    "\n",
    "\n",
    "plt.plot(x,temp1['main_meter'], label='sat')\n",
    "plt.plot(x,temp2['main_meter'], label='sun')\n",
    "plt.plot(x,temp3['main_meter'], label='mon')\n",
    "plt.plot(x,temp4['main_meter'], label='tue')\n",
    "plt.plot(x,temp5['main_meter'], label='wed')\n",
    "plt.plot(x,temp6['main_meter'], label='thur')\n",
    "plt.plot(x,temp7['main_meter'], label='fri')\n",
    "\n",
    "plt.legend(loc=\"upper left\")\n",
    "plt.show()"
   ]
  },
  {
   "cell_type": "code",
   "execution_count": null,
   "metadata": {},
   "outputs": [],
   "source": [
    "temp1.head()"
   ]
  },
  {
   "cell_type": "code",
   "execution_count": null,
   "metadata": {},
   "outputs": [],
   "source": [
    "i=672*4\n",
    "temp1=df.iloc[i:i+96]\n",
    "temp2=df.iloc[i+97:i+193]\n",
    "temp3=df.iloc[i+193:i+289]\n",
    "temp4=df.iloc[i+289:i+385]\n",
    "temp5=df.iloc[i+385:i+481]\n",
    "temp6=df.iloc[i+480:i+576]\n",
    "temp7=df.iloc[i+576:i+672]\n",
    "\n",
    "\n",
    "\n",
    "plt.plot(x,temp1['main_meter'], label='sat')\n",
    "plt.plot(x,temp2['main_meter'], label='sun')\n",
    "plt.plot(x,temp3['main_meter'], label='mon')\n",
    "plt.plot(x,temp4['main_meter'], label='tue')\n",
    "plt.plot(x,temp5['main_meter'], label='wed')\n",
    "plt.plot(x,temp6['main_meter'], label='thur')\n",
    "plt.plot(x,temp7['main_meter'], label='fri')\n",
    "\n",
    "plt.legend(loc=\"upper left\")\n",
    "plt.show()"
   ]
  },
  {
   "cell_type": "code",
   "execution_count": null,
   "metadata": {},
   "outputs": [],
   "source": [
    "temp1.head()"
   ]
  },
  {
   "cell_type": "code",
   "execution_count": null,
   "metadata": {},
   "outputs": [],
   "source": [
    "## Month=== May\n",
    "i=672*5\n",
    "temp1=df.iloc[i:i+96]\n",
    "temp2=df.iloc[i+97:i+193]\n",
    "temp3=df.iloc[i+193:i+289]\n",
    "temp4=df.iloc[i+289:i+385]\n",
    "temp5=df.iloc[i+385:i+481]\n",
    "temp6=df.iloc[i+480:i+576]\n",
    "temp7=df.iloc[i+576:i+672]\n",
    "\n",
    "\n",
    "\n",
    "plt.plot(x,temp1['main_meter'], label='sat')\n",
    "plt.plot(x,temp2['main_meter'], label='sun')\n",
    "plt.plot(x,temp3['main_meter'], label='mon')\n",
    "plt.plot(x,temp4['main_meter'], label='tue')\n",
    "plt.plot(x,temp5['main_meter'], label='wed')\n",
    "plt.plot(x,temp6['main_meter'], label='thur')\n",
    "plt.plot(x,temp7['main_meter'], label='fri')\n",
    "\n",
    "plt.legend(loc=\"upper left\")\n",
    "plt.show()"
   ]
  },
  {
   "cell_type": "code",
   "execution_count": null,
   "metadata": {},
   "outputs": [],
   "source": [
    "temp1.head()"
   ]
  },
  {
   "cell_type": "code",
   "execution_count": null,
   "metadata": {},
   "outputs": [],
   "source": [
    "## Month=== May\n",
    "i=672*6\n",
    "temp1=df.iloc[i:i+96]\n",
    "temp2=df.iloc[i+97:i+193]\n",
    "temp3=df.iloc[i+193:i+289]\n",
    "temp4=df.iloc[i+289:i+385]\n",
    "temp5=df.iloc[i+385:i+481]\n",
    "temp6=df.iloc[i+480:i+576]\n",
    "temp7=df.iloc[i+576:i+672]\n",
    "\n",
    "\n",
    "\n",
    "plt.plot(x,temp1['main_meter'], label='sat')\n",
    "plt.plot(x,temp2['main_meter'], label='sun')\n",
    "plt.plot(x,temp3['main_meter'], label='mon')\n",
    "plt.plot(x,temp4['main_meter'], label='tue')\n",
    "plt.plot(x,temp5['main_meter'], label='wed')\n",
    "plt.plot(x,temp6['main_meter'], label='thur')\n",
    "plt.plot(x,temp7['main_meter'], label='fri')\n",
    "\n",
    "plt.legend(loc=\"upper left\")\n",
    "plt.show()"
   ]
  },
  {
   "cell_type": "code",
   "execution_count": null,
   "metadata": {},
   "outputs": [],
   "source": [
    "temp1.head()"
   ]
  },
  {
   "cell_type": "code",
   "execution_count": null,
   "metadata": {},
   "outputs": [],
   "source": [
    "## Month=== May\n",
    "i=672*7\n",
    "temp1=df.iloc[i:i+96]\n",
    "temp2=df.iloc[i+97:i+193]\n",
    "temp3=df.iloc[i+193:i+289]\n",
    "temp4=df.iloc[i+289:i+385]\n",
    "temp5=df.iloc[i+385:i+481]\n",
    "temp6=df.iloc[i+480:i+576]\n",
    "temp7=df.iloc[i+576:i+672]\n",
    "\n",
    "\n",
    "\n",
    "plt.plot(x,temp1['main_meter'], label='sat')\n",
    "plt.plot(x,temp2['main_meter'], label='sun')\n",
    "plt.plot(x,temp3['main_meter'], label='mon')\n",
    "plt.plot(x,temp4['main_meter'], label='tue')\n",
    "plt.plot(x,temp5['main_meter'], label='wed')\n",
    "plt.plot(x,temp6['main_meter'], label='thur')\n",
    "plt.plot(x,temp7['main_meter'], label='fri')\n",
    "\n",
    "plt.legend(loc=\"upper left\")\n",
    "plt.show()"
   ]
  },
  {
   "cell_type": "code",
   "execution_count": null,
   "metadata": {},
   "outputs": [],
   "source": []
  },
  {
   "cell_type": "code",
   "execution_count": null,
   "metadata": {},
   "outputs": [],
   "source": [
    "## Month=== May\n",
    "i=672*8\n",
    "temp1=df.iloc[i:i+96]\n",
    "temp2=df.iloc[i+97:i+193]\n",
    "temp3=df.iloc[i+193:i+289]\n",
    "temp4=df.iloc[i+289:i+385]\n",
    "temp5=df.iloc[i+385:i+481]\n",
    "temp6=df.iloc[i+480:i+576]\n",
    "temp7=df.iloc[i+576:i+672]\n",
    "\n",
    "\n",
    "\n",
    "plt.plot(x,temp1['main_meter'], label='sat')\n",
    "plt.plot(x,temp2['main_meter'], label='sun')\n",
    "plt.plot(x,temp3['main_meter'], label='mon')\n",
    "plt.plot(x,temp4['main_meter'], label='tue')\n",
    "plt.plot(x,temp5['main_meter'], label='wed')\n",
    "plt.plot(x,temp6['main_meter'], label='thur')\n",
    "plt.plot(x,temp7['main_meter'], label='fri')\n",
    "\n",
    "plt.legend(loc=\"upper left\")\n",
    "plt.show()"
   ]
  },
  {
   "cell_type": "code",
   "execution_count": null,
   "metadata": {},
   "outputs": [],
   "source": [
    "temp1.head()"
   ]
  },
  {
   "cell_type": "code",
   "execution_count": null,
   "metadata": {},
   "outputs": [],
   "source": [
    "## Month=== jun\n",
    "i=672*9\n",
    "temp1=df.iloc[i:i+96]\n",
    "temp2=df.iloc[i+97:i+193]\n",
    "temp3=df.iloc[i+193:i+289]\n",
    "temp4=df.iloc[i+289:i+385]\n",
    "temp5=df.iloc[i+385:i+481]\n",
    "temp6=df.iloc[i+480:i+576]\n",
    "temp7=df.iloc[i+576:i+672]\n",
    "\n",
    "\n",
    "\n",
    "plt.plot(x,temp1['main_meter'], label='sat')\n",
    "plt.plot(x,temp2['main_meter'], label='sun')\n",
    "plt.plot(x,temp3['main_meter'], label='mon')\n",
    "plt.plot(x,temp4['main_meter'], label='tue')\n",
    "plt.plot(x,temp5['main_meter'], label='wed')\n",
    "plt.plot(x,temp6['main_meter'], label='thur')\n",
    "plt.plot(x,temp7['main_meter'], label='fri')\n",
    "\n",
    "plt.legend(loc=\"upper left\")\n",
    "plt.show()"
   ]
  },
  {
   "cell_type": "code",
   "execution_count": null,
   "metadata": {},
   "outputs": [],
   "source": [
    "temp1.head()"
   ]
  },
  {
   "cell_type": "code",
   "execution_count": null,
   "metadata": {},
   "outputs": [],
   "source": [
    "## Month=== June\n",
    "i=672*10\n",
    "temp1=df.iloc[i:i+96]\n",
    "temp2=df.iloc[i+97:i+193]\n",
    "temp3=df.iloc[i+193:i+289]\n",
    "temp4=df.iloc[i+289:i+385]\n",
    "temp5=df.iloc[i+385:i+481]\n",
    "temp6=df.iloc[i+480:i+576]\n",
    "temp7=df.iloc[i+576:i+672]\n",
    "\n",
    "\n",
    "\n",
    "plt.plot(x,temp1['main_meter'], label='sat')\n",
    "plt.plot(x,temp2['main_meter'], label='sun')\n",
    "plt.plot(x,temp3['main_meter'], label='mon')\n",
    "plt.plot(x,temp4['main_meter'], label='tue')\n",
    "plt.plot(x,temp5['main_meter'], label='wed')\n",
    "plt.plot(x,temp6['main_meter'], label='thur')\n",
    "plt.plot(x,temp7['main_meter'], label='fri')\n",
    "\n",
    "plt.legend(loc=\"upper left\")\n",
    "plt.show()"
   ]
  },
  {
   "cell_type": "code",
   "execution_count": null,
   "metadata": {},
   "outputs": [],
   "source": [
    "temp1.head()"
   ]
  },
  {
   "cell_type": "code",
   "execution_count": null,
   "metadata": {},
   "outputs": [],
   "source": [
    "## Month=== June\n",
    "i=672*11\n",
    "temp1=df.iloc[i:i+96]\n",
    "temp2=df.iloc[i+97:i+193]\n",
    "temp3=df.iloc[i+193:i+289]\n",
    "temp4=df.iloc[i+289:i+385]\n",
    "temp5=df.iloc[i+385:i+481]\n",
    "temp6=df.iloc[i+480:i+576]\n",
    "temp7=df.iloc[i+576:i+672]\n",
    "\n",
    "\n",
    "\n",
    "plt.plot(x,temp1['main_meter'], label='sat')\n",
    "plt.plot(x,temp2['main_meter'], label='sun')\n",
    "plt.plot(x,temp3['main_meter'], label='mon')\n",
    "plt.plot(x,temp4['main_meter'], label='tue')\n",
    "plt.plot(x,temp5['main_meter'], label='wed')\n",
    "plt.plot(x,temp6['main_meter'], label='thur')\n",
    "plt.plot(x,temp7['main_meter'], label='fri')\n",
    "\n",
    "plt.legend(loc=\"upper left\")\n",
    "plt.show()"
   ]
  },
  {
   "cell_type": "code",
   "execution_count": null,
   "metadata": {},
   "outputs": [],
   "source": [
    "## JUN\n",
    "i=672*12\n",
    "temp1=df.iloc[i:i+96]\n",
    "temp2=df.iloc[i+97:i+193]\n",
    "temp3=df.iloc[i+193:i+289]\n",
    "temp4=df.iloc[i+289:i+385]\n",
    "temp5=df.iloc[i+385:i+481]\n",
    "temp6=df.iloc[i+480:i+576]\n",
    "temp7=df.iloc[i+576:i+672]\n",
    "\n",
    "\n",
    "\n",
    "plt.plot(x,temp1['main_meter'], label='sat')\n",
    "plt.plot(x,temp2['main_meter'], label='sun')\n",
    "plt.plot(x,temp3['main_meter'], label='mon')\n",
    "plt.plot(x,temp4['main_meter'], label='tue')\n",
    "plt.plot(x,temp5['main_meter'], label='wed')\n",
    "plt.plot(x,temp6['main_meter'], label='thur')\n",
    "plt.plot(x,temp7['main_meter'], label='fri')\n",
    "\n",
    "plt.legend(loc=\"upper left\")\n",
    "plt.show()"
   ]
  },
  {
   "cell_type": "code",
   "execution_count": null,
   "metadata": {},
   "outputs": [],
   "source": [
    "temp1.head()"
   ]
  },
  {
   "cell_type": "code",
   "execution_count": null,
   "metadata": {},
   "outputs": [],
   "source": [
    "## JUL\n",
    "i=672*13\n",
    "temp1=df.iloc[i:i+96]\n",
    "temp2=df.iloc[i+97:i+193]\n",
    "temp3=df.iloc[i+193:i+289]\n",
    "temp4=df.iloc[i+289:i+385]\n",
    "temp5=df.iloc[i+385:i+481]\n",
    "temp6=df.iloc[i+480:i+576]\n",
    "temp7=df.iloc[i+576:i+672]\n",
    "\n",
    "\n",
    "\n",
    "plt.plot(x,temp1['main_meter'], label='sat')\n",
    "plt.plot(x,temp2['main_meter'], label='sun')\n",
    "plt.plot(x,temp3['main_meter'], label='mon')\n",
    "plt.plot(x,temp4['main_meter'], label='tue')\n",
    "plt.plot(x,temp5['main_meter'], label='wed')\n",
    "plt.plot(x,temp6['main_meter'], label='thur')\n",
    "plt.plot(x,temp7['main_meter'], label='fri')\n",
    "\n",
    "plt.legend(loc=\"upper left\")\n",
    "plt.show()"
   ]
  },
  {
   "cell_type": "code",
   "execution_count": null,
   "metadata": {},
   "outputs": [],
   "source": [
    "temp1.head()"
   ]
  },
  {
   "cell_type": "code",
   "execution_count": null,
   "metadata": {},
   "outputs": [],
   "source": [
    "## JUL\n",
    "i=672*14\n",
    "temp1=df.iloc[i:i+96]\n",
    "temp2=df.iloc[i+97:i+193]\n",
    "temp3=df.iloc[i+193:i+289]\n",
    "temp4=df.iloc[i+289:i+385]\n",
    "temp5=df.iloc[i+385:i+481]\n",
    "temp6=df.iloc[i+480:i+576]\n",
    "temp7=df.iloc[i+576:i+672]\n",
    "\n",
    "\n",
    "\n",
    "plt.plot(x,temp1['main_meter'], label='sat')\n",
    "plt.plot(x,temp2['main_meter'], label='sun')\n",
    "plt.plot(x,temp3['main_meter'], label='mon')\n",
    "plt.plot(x,temp4['main_meter'], label='tue')\n",
    "plt.plot(x,temp5['main_meter'], label='wed')\n",
    "plt.plot(x,temp6['main_meter'], label='thur')\n",
    "plt.plot(x,temp7['main_meter'], label='fri')\n",
    "\n",
    "plt.legend(loc=\"upper left\")\n",
    "plt.show()"
   ]
  },
  {
   "cell_type": "code",
   "execution_count": null,
   "metadata": {},
   "outputs": [],
   "source": [
    "temp1.head()"
   ]
  },
  {
   "cell_type": "code",
   "execution_count": null,
   "metadata": {},
   "outputs": [],
   "source": [
    "## JUL\n",
    "i=672*15\n",
    "temp1=df.iloc[i:i+96]\n",
    "temp2=df.iloc[i+97:i+193]\n",
    "temp3=df.iloc[i+193:i+289]\n",
    "temp4=df.iloc[i+289:i+385]\n",
    "temp5=df.iloc[i+385:i+481]\n",
    "temp6=df.iloc[i+480:i+576]\n",
    "temp7=df.iloc[i+576:i+672]\n",
    "\n",
    "\n",
    "\n",
    "plt.plot(x,temp1['main_meter'], label='sat')\n",
    "plt.plot(x,temp2['main_meter'], label='sun')\n",
    "plt.plot(x,temp3['main_meter'], label='mon')\n",
    "plt.plot(x,temp4['main_meter'], label='tue')\n",
    "plt.plot(x,temp5['main_meter'], label='wed')\n",
    "plt.plot(x,temp6['main_meter'], label='thur')\n",
    "plt.plot(x,temp7['main_meter'], label='fri')\n",
    "\n",
    "plt.legend(loc=\"upper left\")\n",
    "plt.show()"
   ]
  },
  {
   "cell_type": "code",
   "execution_count": null,
   "metadata": {},
   "outputs": [],
   "source": [
    "temp1.head()"
   ]
  },
  {
   "cell_type": "code",
   "execution_count": null,
   "metadata": {},
   "outputs": [],
   "source": [
    "## JUL\n",
    "i=672*16\n",
    "temp1=df.iloc[i:i+96]\n",
    "temp2=df.iloc[i+97:i+193]\n",
    "temp3=df.iloc[i+193:i+289]\n",
    "temp4=df.iloc[i+289:i+385]\n",
    "temp5=df.iloc[i+385:i+481]\n",
    "temp6=df.iloc[i+480:i+576]\n",
    "temp7=df.iloc[i+576:i+672]\n",
    "\n",
    "\n",
    "\n",
    "plt.plot(x,temp1['main_meter'], label='sat')\n",
    "plt.plot(x,temp2['main_meter'], label='sun')\n",
    "plt.plot(x,temp3['main_meter'], label='mon')\n",
    "plt.plot(x,temp4['main_meter'], label='tue')\n",
    "plt.plot(x,temp5['main_meter'], label='wed')\n",
    "plt.plot(x,temp6['main_meter'], label='thur')\n",
    "plt.plot(x,temp7['main_meter'], label='fri')\n",
    "\n",
    "plt.legend(loc=\"upper left\")\n",
    "plt.show()"
   ]
  },
  {
   "cell_type": "code",
   "execution_count": null,
   "metadata": {},
   "outputs": [],
   "source": [
    "temp1.head()"
   ]
  },
  {
   "cell_type": "code",
   "execution_count": null,
   "metadata": {},
   "outputs": [],
   "source": [
    "## AUG\n",
    "i=672*17\n",
    "temp1=df.iloc[i:i+96]\n",
    "temp2=df.iloc[i+97:i+193]\n",
    "temp3=df.iloc[i+193:i+289]\n",
    "temp4=df.iloc[i+289:i+385]\n",
    "temp5=df.iloc[i+385:i+481]\n",
    "temp6=df.iloc[i+480:i+576]\n",
    "temp7=df.iloc[i+576:i+672]\n",
    "\n",
    "\n",
    "\n",
    "plt.plot(x,temp1['main_meter'], label='sat')\n",
    "plt.plot(x,temp2['main_meter'], label='sun')\n",
    "plt.plot(x,temp3['main_meter'], label='mon')\n",
    "plt.plot(x,temp4['main_meter'], label='tue')\n",
    "plt.plot(x,temp5['main_meter'], label='wed')\n",
    "plt.plot(x,temp6['main_meter'], label='thur')\n",
    "plt.plot(x,temp7['main_meter'], label='fri')\n",
    "\n",
    "plt.legend(loc=\"upper left\")\n",
    "plt.show()"
   ]
  },
  {
   "cell_type": "code",
   "execution_count": null,
   "metadata": {},
   "outputs": [],
   "source": [
    "temp1.head()"
   ]
  },
  {
   "cell_type": "code",
   "execution_count": null,
   "metadata": {},
   "outputs": [],
   "source": []
  },
  {
   "cell_type": "code",
   "execution_count": null,
   "metadata": {},
   "outputs": [],
   "source": [
    "## AUG\n",
    "i=672*18\n",
    "temp1=df.iloc[i:i+96]\n",
    "temp2=df.iloc[i+97:i+193]\n",
    "temp3=df.iloc[i+193:i+289]\n",
    "temp4=df.iloc[i+289:i+385]\n",
    "temp5=df.iloc[i+385:i+481]\n",
    "temp6=df.iloc[i+480:i+576]\n",
    "temp7=df.iloc[i+576:i+672]\n",
    "\n",
    "\n",
    "\n",
    "plt.plot(x,temp1['main_meter'], label='sat')\n",
    "plt.plot(x,temp2['main_meter'], label='sun')\n",
    "plt.plot(x,temp3['main_meter'], label='mon')\n",
    "plt.plot(x,temp4['main_meter'], label='tue')\n",
    "plt.plot(x,temp5['main_meter'], label='wed')\n",
    "plt.plot(x,temp6['main_meter'], label='thur')\n",
    "plt.plot(x,temp7['main_meter'], label='fri')\n",
    "\n",
    "plt.legend(loc=\"upper left\")\n",
    "plt.show()"
   ]
  },
  {
   "cell_type": "code",
   "execution_count": null,
   "metadata": {},
   "outputs": [],
   "source": [
    "temp1.head()"
   ]
  },
  {
   "cell_type": "code",
   "execution_count": null,
   "metadata": {},
   "outputs": [],
   "source": [
    "## AUG\n",
    "i=672*19\n",
    "temp1=df.iloc[i:i+96]\n",
    "temp2=df.iloc[i+97:i+193]\n",
    "temp3=df.iloc[i+193:i+289]\n",
    "temp4=df.iloc[i+289:i+385]\n",
    "temp5=df.iloc[i+385:i+481]\n",
    "temp6=df.iloc[i+480:i+576]\n",
    "temp7=df.iloc[i+576:i+672]\n",
    "\n",
    "\n",
    "\n",
    "plt.plot(x,temp1['main_meter'], label='sat')\n",
    "plt.plot(x,temp2['main_meter'], label='sun')\n",
    "plt.plot(x,temp3['main_meter'], label='mon')\n",
    "plt.plot(x,temp4['main_meter'], label='tue')\n",
    "plt.plot(x,temp5['main_meter'], label='wed')\n",
    "plt.plot(x,temp6['main_meter'], label='thur')\n",
    "plt.plot(x,temp7['main_meter'], label='fri')\n",
    "\n",
    "plt.legend(loc=\"upper left\")\n",
    "plt.show()"
   ]
  },
  {
   "cell_type": "code",
   "execution_count": null,
   "metadata": {},
   "outputs": [],
   "source": [
    "temp1.head()"
   ]
  },
  {
   "cell_type": "code",
   "execution_count": null,
   "metadata": {},
   "outputs": [],
   "source": []
  },
  {
   "cell_type": "code",
   "execution_count": null,
   "metadata": {},
   "outputs": [],
   "source": [
    "## AUG\n",
    "i=672*20\n",
    "temp1=df.iloc[i:i+96]\n",
    "temp2=df.iloc[i+97:i+193]\n",
    "temp3=df.iloc[i+193:i+289]\n",
    "temp4=df.iloc[i+289:i+385]\n",
    "temp5=df.iloc[i+385:i+481]\n",
    "temp6=df.iloc[i+480:i+576]\n",
    "temp7=df.iloc[i+576:i+672]\n",
    "\n",
    "\n",
    "\n",
    "plt.plot(x,temp1['main_meter'], label='sat')\n",
    "plt.plot(x,temp2['main_meter'], label='sun')\n",
    "plt.plot(x,temp3['main_meter'], label='mon')\n",
    "plt.plot(x,temp4['main_meter'], label='tue')\n",
    "plt.plot(x,temp5['main_meter'], label='wed')\n",
    "plt.plot(x,temp6['main_meter'], label='thur')\n",
    "plt.plot(x,temp7['main_meter'], label='fri')\n",
    "\n",
    "plt.legend(loc=\"upper left\")\n",
    "plt.show()"
   ]
  },
  {
   "cell_type": "code",
   "execution_count": null,
   "metadata": {},
   "outputs": [],
   "source": [
    "temp1.head()"
   ]
  },
  {
   "cell_type": "code",
   "execution_count": null,
   "metadata": {},
   "outputs": [],
   "source": []
  },
  {
   "cell_type": "code",
   "execution_count": null,
   "metadata": {},
   "outputs": [],
   "source": [
    "## AUG\n",
    "i=672*21\n",
    "temp1=df.iloc[i:i+96]\n",
    "temp2=df.iloc[i+97:i+193]\n",
    "temp3=df.iloc[i+193:i+289]\n",
    "temp4=df.iloc[i+289:i+385]\n",
    "temp5=df.iloc[i+385:i+481]\n",
    "temp6=df.iloc[i+480:i+576]\n",
    "temp7=df.iloc[i+576:i+672]\n",
    "\n",
    "\n",
    "\n",
    "plt.plot(x,temp1['main_meter'], label='sat')\n",
    "plt.plot(x,temp2['main_meter'], label='sun')\n",
    "plt.plot(x,temp3['main_meter'], label='mon')\n",
    "plt.plot(x,temp4['main_meter'], label='tue')\n",
    "plt.plot(x,temp5['main_meter'], label='wed')\n",
    "plt.plot(x,temp6['main_meter'], label='thur')\n",
    "plt.plot(x,temp7['main_meter'], label='fri')\n",
    "\n",
    "plt.legend(loc=\"upper left\")\n",
    "plt.show()"
   ]
  },
  {
   "cell_type": "code",
   "execution_count": null,
   "metadata": {},
   "outputs": [],
   "source": [
    "temp1.head()"
   ]
  },
  {
   "cell_type": "code",
   "execution_count": null,
   "metadata": {},
   "outputs": [],
   "source": []
  },
  {
   "cell_type": "code",
   "execution_count": null,
   "metadata": {},
   "outputs": [],
   "source": [
    "## SEPT\n",
    "i=672*22\n",
    "temp1=df.iloc[i:i+96]\n",
    "temp2=df.iloc[i+97:i+193]\n",
    "temp3=df.iloc[i+193:i+289]\n",
    "temp4=df.iloc[i+289:i+385]\n",
    "temp5=df.iloc[i+385:i+481]\n",
    "temp6=df.iloc[i+480:i+576]\n",
    "temp7=df.iloc[i+576:i+672]\n",
    "\n",
    "\n",
    "\n",
    "plt.plot(x,temp1['main_meter'], label='sat')\n",
    "plt.plot(x,temp2['main_meter'], label='sun')\n",
    "plt.plot(x,temp3['main_meter'], label='mon')\n",
    "plt.plot(x,temp4['main_meter'], label='tue')\n",
    "plt.plot(x,temp5['main_meter'], label='wed')\n",
    "plt.plot(x,temp6['main_meter'], label='thur')\n",
    "plt.plot(x,temp7['main_meter'], label='fri')\n",
    "\n",
    "plt.legend(loc=\"upper left\")\n",
    "plt.show()"
   ]
  },
  {
   "cell_type": "code",
   "execution_count": null,
   "metadata": {},
   "outputs": [],
   "source": [
    "temp1.head()"
   ]
  },
  {
   "cell_type": "code",
   "execution_count": null,
   "metadata": {},
   "outputs": [],
   "source": []
  },
  {
   "cell_type": "code",
   "execution_count": null,
   "metadata": {},
   "outputs": [],
   "source": [
    "## SEPT\n",
    "i=672*23\n",
    "temp1=df.iloc[i:i+96]\n",
    "temp2=df.iloc[i+97:i+193]\n",
    "temp3=df.iloc[i+193:i+289]\n",
    "temp4=df.iloc[i+289:i+385]\n",
    "temp5=df.iloc[i+385:i+481]\n",
    "temp6=df.iloc[i+480:i+576]\n",
    "temp7=df.iloc[i+576:i+672]\n",
    "\n",
    "\n",
    "\n",
    "plt.plot(x,temp1['main_meter'], label='sat')\n",
    "plt.plot(x,temp2['main_meter'], label='sun')\n",
    "plt.plot(x,temp3['main_meter'], label='mon')\n",
    "plt.plot(x,temp4['main_meter'], label='tue')\n",
    "plt.plot(x,temp5['main_meter'], label='wed')\n",
    "plt.plot(x,temp6['main_meter'], label='thur')\n",
    "plt.plot(x,temp7['main_meter'], label='fri')\n",
    "\n",
    "plt.legend(loc=\"upper left\")\n",
    "plt.show()"
   ]
  },
  {
   "cell_type": "code",
   "execution_count": null,
   "metadata": {},
   "outputs": [],
   "source": [
    "temp1.head()"
   ]
  },
  {
   "cell_type": "code",
   "execution_count": null,
   "metadata": {},
   "outputs": [],
   "source": [
    "## SEPT\n",
    "i=672*24\n",
    "temp1=df.iloc[i:i+96]\n",
    "temp2=df.iloc[i+97:i+193]\n",
    "temp3=df.iloc[i+193:i+289]\n",
    "temp4=df.iloc[i+289:i+385]\n",
    "temp5=df.iloc[i+385:i+481]\n",
    "temp6=df.iloc[i+480:i+576]\n",
    "temp7=df.iloc[i+576:i+672]\n",
    "\n",
    "\n",
    "\n",
    "plt.plot(x,temp1['main_meter'], label='sat')\n",
    "plt.plot(x,temp2['main_meter'], label='sun')\n",
    "plt.plot(x,temp3['main_meter'], label='mon')\n",
    "plt.plot(x,temp4['main_meter'], label='tue')\n",
    "plt.plot(x,temp5['main_meter'], label='wed')\n",
    "plt.plot(x,temp6['main_meter'], label='thur')\n",
    "plt.plot(x,temp7['main_meter'], label='fri')\n",
    "\n",
    "plt.legend(loc=\"upper left\")\n",
    "plt.show()"
   ]
  },
  {
   "cell_type": "code",
   "execution_count": null,
   "metadata": {},
   "outputs": [],
   "source": [
    "temp1.head()"
   ]
  },
  {
   "cell_type": "code",
   "execution_count": null,
   "metadata": {},
   "outputs": [],
   "source": []
  },
  {
   "cell_type": "code",
   "execution_count": null,
   "metadata": {},
   "outputs": [],
   "source": [
    "## SEPT\n",
    "i=672*25\n",
    "temp1=df.iloc[i:i+96]\n",
    "temp2=df.iloc[i+97:i+193]\n",
    "temp3=df.iloc[i+193:i+289]\n",
    "temp4=df.iloc[i+289:i+385]\n",
    "temp5=df.iloc[i+385:i+481]\n",
    "temp6=df.iloc[i+480:i+576]\n",
    "temp7=df.iloc[i+576:i+672]\n",
    "\n",
    "\n",
    "\n",
    "plt.plot(x,temp1['main_meter'], label='sat')\n",
    "plt.plot(x,temp2['main_meter'], label='sun')\n",
    "plt.plot(x,temp3['main_meter'], label='mon')\n",
    "plt.plot(x,temp4['main_meter'], label='tue')\n",
    "plt.plot(x,temp5['main_meter'], label='wed')\n",
    "plt.plot(x,temp6['main_meter'], label='thur')\n",
    "plt.plot(x,temp7['main_meter'], label='fri')\n",
    "\n",
    "plt.legend(loc=\"upper left\")\n",
    "plt.show()"
   ]
  },
  {
   "cell_type": "code",
   "execution_count": null,
   "metadata": {},
   "outputs": [],
   "source": [
    "temp1.head()"
   ]
  },
  {
   "cell_type": "code",
   "execution_count": null,
   "metadata": {},
   "outputs": [],
   "source": []
  },
  {
   "cell_type": "code",
   "execution_count": null,
   "metadata": {},
   "outputs": [],
   "source": [
    "## OCT\n",
    "i=672*26\n",
    "temp1=df.iloc[i:i+96]\n",
    "temp2=df.iloc[i+97:i+193]\n",
    "temp3=df.iloc[i+193:i+289]\n",
    "temp4=df.iloc[i+289:i+385]\n",
    "temp5=df.iloc[i+385:i+481]\n",
    "temp6=df.iloc[i+480:i+576]\n",
    "temp7=df.iloc[i+576:i+672]\n",
    "\n",
    "\n",
    "\n",
    "plt.plot(x,temp1['main_meter'], label='sat')\n",
    "plt.plot(x,temp2['main_meter'], label='sun')\n",
    "plt.plot(x,temp3['main_meter'], label='mon')\n",
    "plt.plot(x,temp4['main_meter'], label='tue')\n",
    "plt.plot(x,temp5['main_meter'], label='wed')\n",
    "plt.plot(x,temp6['main_meter'], label='thur')\n",
    "plt.plot(x,temp7['main_meter'], label='fri')\n",
    "\n",
    "plt.legend(loc=\"upper left\")\n",
    "plt.show()"
   ]
  },
  {
   "cell_type": "code",
   "execution_count": null,
   "metadata": {},
   "outputs": [],
   "source": [
    "temp1.head()"
   ]
  },
  {
   "cell_type": "code",
   "execution_count": null,
   "metadata": {},
   "outputs": [],
   "source": [
    "## OCT\n",
    "i=672*27\n",
    "temp1=df.iloc[i:i+96]\n",
    "temp2=df.iloc[i+97:i+193]\n",
    "temp3=df.iloc[i+193:i+289]\n",
    "temp4=df.iloc[i+289:i+385]\n",
    "temp5=df.iloc[i+385:i+481]\n",
    "temp6=df.iloc[i+480:i+576]\n",
    "temp7=df.iloc[i+576:i+672]\n",
    "\n",
    "\n",
    "\n",
    "plt.plot(x,temp1['main_meter'], label='sat')\n",
    "plt.plot(x,temp2['main_meter'], label='sun')\n",
    "plt.plot(x,temp3['main_meter'], label='mon')\n",
    "plt.plot(x,temp4['main_meter'], label='tue')\n",
    "plt.plot(x,temp5['main_meter'], label='wed')\n",
    "plt.plot(x,temp6['main_meter'], label='thur')\n",
    "plt.plot(x,temp7['main_meter'], label='fri')\n",
    "\n",
    "plt.legend(loc=\"upper left\")\n",
    "plt.show()"
   ]
  },
  {
   "cell_type": "code",
   "execution_count": null,
   "metadata": {},
   "outputs": [],
   "source": [
    "temp1.head()"
   ]
  },
  {
   "cell_type": "code",
   "execution_count": null,
   "metadata": {},
   "outputs": [],
   "source": [
    "## OCT\n",
    "i=672*28\n",
    "temp1=df.iloc[i:i+96]\n",
    "temp2=df.iloc[i+97:i+193]\n",
    "temp3=df.iloc[i+193:i+289]\n",
    "temp4=df.iloc[i+289:i+385]\n",
    "temp5=df.iloc[i+385:i+481]\n",
    "temp6=df.iloc[i+480:i+576]\n",
    "temp7=df.iloc[i+576:i+672]\n",
    "\n",
    "\n",
    "\n",
    "plt.plot(x,temp1['main_meter'], label='sat')\n",
    "plt.plot(x,temp2['main_meter'], label='sun')\n",
    "plt.plot(x,temp3['main_meter'], label='mon')\n",
    "plt.plot(x,temp4['main_meter'], label='tue')\n",
    "plt.plot(x,temp5['main_meter'], label='wed')\n",
    "plt.plot(x,temp6['main_meter'], label='thur')\n",
    "plt.plot(x,temp7['main_meter'], label='fri')\n",
    "\n",
    "plt.legend(loc=\"upper left\")\n",
    "plt.show()"
   ]
  },
  {
   "cell_type": "code",
   "execution_count": null,
   "metadata": {},
   "outputs": [],
   "source": [
    "temp1.head()"
   ]
  },
  {
   "cell_type": "code",
   "execution_count": null,
   "metadata": {},
   "outputs": [],
   "source": [
    "## OCT\n",
    "i=672*29\n",
    "temp1=df.iloc[i:i+96]\n",
    "temp2=df.iloc[i+97:i+193]\n",
    "temp3=df.iloc[i+193:i+289]\n",
    "temp4=df.iloc[i+289:i+385]\n",
    "temp5=df.iloc[i+385:i+481]\n",
    "temp6=df.iloc[i+480:i+576]\n",
    "temp7=df.iloc[i+576:i+672]\n",
    "\n",
    "\n",
    "\n",
    "plt.plot(x,temp1['main_meter'], label='sat')\n",
    "plt.plot(x,temp2['main_meter'], label='sun')\n",
    "plt.plot(x,temp3['main_meter'], label='mon')\n",
    "plt.plot(x,temp4['main_meter'], label='tue')\n",
    "plt.plot(x,temp5['main_meter'], label='wed')\n",
    "plt.plot(x,temp6['main_meter'], label='thur')\n",
    "plt.plot(x,temp7['main_meter'], label='fri')\n",
    "\n",
    "plt.legend(loc=\"upper left\")\n",
    "plt.show()"
   ]
  },
  {
   "cell_type": "code",
   "execution_count": null,
   "metadata": {},
   "outputs": [],
   "source": [
    "temp1.head()"
   ]
  },
  {
   "cell_type": "code",
   "execution_count": null,
   "metadata": {},
   "outputs": [],
   "source": [
    "## NOV\n",
    "i=672*30\n",
    "temp1=df.iloc[i:i+96]\n",
    "temp2=df.iloc[i+97:i+193]\n",
    "temp3=df.iloc[i+193:i+289]\n",
    "temp4=df.iloc[i+289:i+385]\n",
    "temp5=df.iloc[i+385:i+481]\n",
    "temp6=df.iloc[i+480:i+576]\n",
    "temp7=df.iloc[i+576:i+672]\n",
    "\n",
    "\n",
    "\n",
    "plt.plot(x,temp1['main_meter'], label='sat')\n",
    "plt.plot(x,temp2['main_meter'], label='sun')\n",
    "plt.plot(x,temp3['main_meter'], label='mon')\n",
    "plt.plot(x,temp4['main_meter'], label='tue')\n",
    "plt.plot(x,temp5['main_meter'], label='wed')\n",
    "plt.plot(x,temp6['main_meter'], label='thur')\n",
    "plt.plot(x,temp7['main_meter'], label='fri')\n",
    "\n",
    "plt.legend(loc=\"upper left\")\n",
    "plt.show()"
   ]
  },
  {
   "cell_type": "code",
   "execution_count": null,
   "metadata": {},
   "outputs": [],
   "source": [
    "temp1.head()"
   ]
  },
  {
   "cell_type": "code",
   "execution_count": null,
   "metadata": {},
   "outputs": [],
   "source": [
    "## NOV\n",
    "i=672*31\n",
    "temp1=df.iloc[i:i+96]\n",
    "temp2=df.iloc[i+97:i+193]\n",
    "temp3=df.iloc[i+193:i+289]\n",
    "temp4=df.iloc[i+289:i+385]\n",
    "temp5=df.iloc[i+385:i+481]\n",
    "temp6=df.iloc[i+480:i+576]\n",
    "temp7=df.iloc[i+576:i+672]\n",
    "\n",
    "\n",
    "\n",
    "plt.plot(x,temp1['main_meter'], label='sat')\n",
    "plt.plot(x,temp2['main_meter'], label='sun')\n",
    "plt.plot(x,temp3['main_meter'], label='mon')\n",
    "plt.plot(x,temp4['main_meter'], label='tue')\n",
    "plt.plot(x,temp5['main_meter'], label='wed')\n",
    "plt.plot(x,temp6['main_meter'], label='thur')\n",
    "plt.plot(x,temp7['main_meter'], label='fri')\n",
    "\n",
    "plt.legend(loc=\"upper left\")\n",
    "plt.show()"
   ]
  },
  {
   "cell_type": "code",
   "execution_count": null,
   "metadata": {},
   "outputs": [],
   "source": [
    "temp1.head()"
   ]
  },
  {
   "cell_type": "code",
   "execution_count": null,
   "metadata": {},
   "outputs": [],
   "source": [
    "## NOV\n",
    "i=672*32\n",
    "temp1=df.iloc[i:i+96]\n",
    "temp2=df.iloc[i+97:i+193]\n",
    "temp3=df.iloc[i+193:i+289]\n",
    "temp4=df.iloc[i+289:i+385]\n",
    "temp5=df.iloc[i+385:i+481]\n",
    "temp6=df.iloc[i+480:i+576]\n",
    "temp7=df.iloc[i+576:i+672]\n",
    "\n",
    "\n",
    "\n",
    "plt.plot(x,temp1['main_meter'], label='sat')\n",
    "plt.plot(x,temp2['main_meter'], label='sun')\n",
    "plt.plot(x,temp3['main_meter'], label='mon')\n",
    "plt.plot(x,temp4['main_meter'], label='tue')\n",
    "plt.plot(x,temp5['main_meter'], label='wed')\n",
    "plt.plot(x,temp6['main_meter'], label='thur')\n",
    "plt.plot(x,temp7['main_meter'], label='fri')\n",
    "\n",
    "plt.legend(loc=\"upper left\")\n",
    "plt.show()"
   ]
  },
  {
   "cell_type": "code",
   "execution_count": null,
   "metadata": {},
   "outputs": [],
   "source": [
    "temp1.head()"
   ]
  },
  {
   "cell_type": "code",
   "execution_count": null,
   "metadata": {},
   "outputs": [],
   "source": [
    "## Nov\n",
    "i=672*33\n",
    "temp1=df.iloc[i:i+96]\n",
    "temp2=df.iloc[i+97:i+193]\n",
    "temp3=df.iloc[i+193:i+289]\n",
    "temp4=df.iloc[i+289:i+385]\n",
    "temp5=df.iloc[i+385:i+481]\n",
    "temp6=df.iloc[i+480:i+576]\n",
    "temp7=df.iloc[i+576:i+672]\n",
    "\n",
    "\n",
    "\n",
    "plt.plot(x,temp1['main_meter'], label='sat')\n",
    "plt.plot(x,temp2['main_meter'], label='sun')\n",
    "plt.plot(x,temp3['main_meter'], label='mon')\n",
    "plt.plot(x,temp4['main_meter'], label='tue')\n",
    "plt.plot(x,temp5['main_meter'], label='wed')\n",
    "plt.plot(x,temp6['main_meter'], label='thur')\n",
    "plt.plot(x,temp7['main_meter'], label='fri')\n",
    "\n",
    "plt.legend(loc=\"upper left\")\n",
    "plt.show()"
   ]
  },
  {
   "cell_type": "code",
   "execution_count": null,
   "metadata": {},
   "outputs": [],
   "source": [
    "temp1.head()"
   ]
  },
  {
   "cell_type": "code",
   "execution_count": null,
   "metadata": {},
   "outputs": [],
   "source": [
    "## Nov\n",
    "i=672*34\n",
    "temp1=df.iloc[i:i+96]\n",
    "temp2=df.iloc[i+97:i+193]\n",
    "temp3=df.iloc[i+193:i+289]\n",
    "temp4=df.iloc[i+289:i+385]\n",
    "temp5=df.iloc[i+385:i+481]\n",
    "temp6=df.iloc[i+480:i+576]\n",
    "temp7=df.iloc[i+576:i+672]\n",
    "\n",
    "\n",
    "\n",
    "plt.plot(x,temp1['main_meter'], label='sat')\n",
    "plt.plot(x,temp2['main_meter'], label='sun')\n",
    "plt.plot(x,temp3['main_meter'], label='mon')\n",
    "plt.plot(x,temp4['main_meter'], label='tue')\n",
    "plt.plot(x,temp5['main_meter'], label='wed')\n",
    "plt.plot(x,temp6['main_meter'], label='thur')\n",
    "plt.plot(x,temp7['main_meter'], label='fri')\n",
    "\n",
    "plt.legend(loc=\"upper left\")\n",
    "plt.show()"
   ]
  },
  {
   "cell_type": "code",
   "execution_count": null,
   "metadata": {},
   "outputs": [],
   "source": [
    "temp1.head()"
   ]
  },
  {
   "cell_type": "code",
   "execution_count": null,
   "metadata": {},
   "outputs": [],
   "source": [
    "## Dec\n",
    "i=672*35\n",
    "temp1=df.iloc[i:i+96]\n",
    "temp2=df.iloc[i+97:i+193]\n",
    "temp3=df.iloc[i+193:i+289]\n",
    "temp4=df.iloc[i+289:i+385]\n",
    "temp5=df.iloc[i+385:i+481]\n",
    "temp6=df.iloc[i+480:i+576]\n",
    "temp7=df.iloc[i+576:i+672]\n",
    "\n",
    "\n",
    "\n",
    "plt.plot(x,temp1['main_meter'], label='sat')\n",
    "plt.plot(x,temp2['main_meter'], label='sun')\n",
    "plt.plot(x,temp3['main_meter'], label='mon')\n",
    "plt.plot(x,temp4['main_meter'], label='tue')\n",
    "plt.plot(x,temp5['main_meter'], label='wed')\n",
    "plt.plot(x,temp6['main_meter'], label='thur')\n",
    "plt.plot(x,temp7['main_meter'], label='fri')\n",
    "\n",
    "plt.legend(loc=\"upper left\")\n",
    "plt.show()"
   ]
  },
  {
   "cell_type": "code",
   "execution_count": null,
   "metadata": {},
   "outputs": [],
   "source": [
    "temp1.head()"
   ]
  },
  {
   "cell_type": "code",
   "execution_count": null,
   "metadata": {},
   "outputs": [],
   "source": [
    "## Dec\n",
    "i=672*36\n",
    "temp1=df.iloc[i:i+96]\n",
    "temp2=df.iloc[i+97:i+193]\n",
    "temp3=df.iloc[i+193:i+289]\n",
    "temp4=df.iloc[i+289:i+385]\n",
    "temp5=df.iloc[i+385:i+481]\n",
    "temp6=df.iloc[i+480:i+576]\n",
    "temp7=df.iloc[i+576:i+672]\n",
    "\n",
    "\n",
    "\n",
    "plt.plot(x,temp1['main_meter'], label='sat')\n",
    "plt.plot(x,temp2['main_meter'], label='sun')\n",
    "plt.plot(x,temp3['main_meter'], label='mon')\n",
    "plt.plot(x,temp4['main_meter'], label='tue')\n",
    "plt.plot(x,temp5['main_meter'], label='wed')\n",
    "plt.plot(x,temp6['main_meter'], label='thur')\n",
    "plt.plot(x,temp7['main_meter'], label='fri')\n",
    "\n",
    "plt.legend(loc=\"upper left\")\n",
    "plt.show()"
   ]
  },
  {
   "cell_type": "code",
   "execution_count": null,
   "metadata": {},
   "outputs": [],
   "source": [
    "temp1.head()"
   ]
  },
  {
   "cell_type": "code",
   "execution_count": null,
   "metadata": {},
   "outputs": [],
   "source": [
    "## Dec\n",
    "i=672*37\n",
    "temp1=df.iloc[i:i+96]\n",
    "temp2=df.iloc[i+97:i+193]\n",
    "temp3=df.iloc[i+193:i+289]\n",
    "temp4=df.iloc[i+289:i+385]\n",
    "temp5=df.iloc[i+385:i+481]\n",
    "temp6=df.iloc[i+480:i+576]\n",
    "temp7=df.iloc[i+576:i+672]\n",
    "\n",
    "\n",
    "\n",
    "plt.plot(x,temp1['main_meter'], label='sat')\n",
    "plt.plot(x,temp2['main_meter'], label='sun')\n",
    "plt.plot(x,temp3['main_meter'], label='mon')\n",
    "plt.plot(x,temp4['main_meter'], label='tue')\n",
    "plt.plot(x,temp5['main_meter'], label='wed')\n",
    "plt.plot(x,temp6['main_meter'], label='thur')\n",
    "plt.plot(x,temp7['main_meter'], label='fri')\n",
    "\n",
    "plt.legend(loc=\"upper left\")\n",
    "plt.show()"
   ]
  },
  {
   "cell_type": "code",
   "execution_count": null,
   "metadata": {},
   "outputs": [],
   "source": [
    "temp1.head()"
   ]
  },
  {
   "cell_type": "code",
   "execution_count": null,
   "metadata": {},
   "outputs": [],
   "source": [
    "##  Last week of the year\n",
    "i=672*38\n",
    "temp1=df.iloc[i:i+96]\n",
    "temp2=df.iloc[i+97:i+193]\n",
    "temp3=df.iloc[i+193:i+289]\n",
    "temp4=df.iloc[i+289:i+385]\n",
    "temp5=df.iloc[i+385:i+481]\n",
    "temp6=df.iloc[i+480:i+576]\n",
    "temp7=df.iloc[i+576:i+672]\n",
    "temp8=df.iloc[i+672:i+768]\n",
    "\n",
    "\n",
    "\n",
    "plt.plot(x,temp1['main_meter'], label='sat')\n",
    "plt.plot(x,temp2['main_meter'], label='sun')\n",
    "plt.plot(x,temp3['main_meter'], label='mon')\n",
    "plt.plot(x,temp4['main_meter'], label='tue')\n",
    "plt.plot(x,temp5['main_meter'], label='wed')\n",
    "plt.plot(x,temp6['main_meter'], label='thur')\n",
    "plt.plot(x,temp7['main_meter'], label='fri')\n",
    "plt.plot(x,temp8['main_meter'], label='new_year')\n",
    "\n",
    "plt.legend(loc=\"upper left\")\n",
    "plt.show()"
   ]
  },
  {
   "cell_type": "code",
   "execution_count": null,
   "metadata": {},
   "outputs": [],
   "source": [
    "temp1.head()"
   ]
  },
  {
   "cell_type": "code",
   "execution_count": null,
   "metadata": {},
   "outputs": [],
   "source": [
    "from statistics import mean, median,mode\n"
   ]
  },
  {
   "cell_type": "code",
   "execution_count": null,
   "metadata": {},
   "outputs": [],
   "source": [
    "# April\n",
    "data = pd.read_csv('train.csv', )\n",
    "i=0\n",
    "apr=data.iloc[i:i+2880,1]\n",
    "max_apr=max(apr)\n",
    "min_apr=min(apr)\n",
    "mean_apr=mean(apr)\n",
    "## NO mode exist\n",
    "print(max_apr,min_apr,mean_apr)\n",
    "maxi=[]\n",
    "mini=[]\n",
    "modei=[]"
   ]
  },
  {
   "cell_type": "code",
   "execution_count": null,
   "metadata": {},
   "outputs": [],
   "source": []
  },
  {
   "cell_type": "code",
   "execution_count": null,
   "metadata": {},
   "outputs": [],
   "source": [
    "apr.tail()"
   ]
  },
  {
   "cell_type": "code",
   "execution_count": null,
   "metadata": {},
   "outputs": [],
   "source": [
    "data = pd.read_csv('train.csv')\n",
    "data.set_index('timestamp')\n",
    "df=data.iloc[0:26400,0:2]\n",
    "df.head()"
   ]
  },
  {
   "cell_type": "code",
   "execution_count": null,
   "metadata": {},
   "outputs": [],
   "source": [
    "apr=df.iloc[0:2880,1]\n",
    "apr.tail()"
   ]
  },
  {
   "cell_type": "code",
   "execution_count": null,
   "metadata": {},
   "outputs": [],
   "source": [
    "may=df.iloc[2880:5856,1]\n",
    "may.tail()"
   ]
  },
  {
   "cell_type": "code",
   "execution_count": null,
   "metadata": {},
   "outputs": [],
   "source": [
    "jun=df.iloc[5856:8736,1]\n",
    "jun.tail()"
   ]
  },
  {
   "cell_type": "code",
   "execution_count": null,
   "metadata": {},
   "outputs": [],
   "source": [
    "jul=df.iloc[8736:11712,1]\n",
    "jul.tail()"
   ]
  },
  {
   "cell_type": "code",
   "execution_count": null,
   "metadata": {},
   "outputs": [],
   "source": [
    "aug=df.iloc[11712:14688,1]\n",
    "aug.tail()"
   ]
  },
  {
   "cell_type": "code",
   "execution_count": null,
   "metadata": {},
   "outputs": [],
   "source": [
    "sept=df.iloc[14688:17568,1]\n",
    "sept.tail()"
   ]
  },
  {
   "cell_type": "code",
   "execution_count": null,
   "metadata": {},
   "outputs": [],
   "source": [
    "octo=df.iloc[17568:20544,1]"
   ]
  },
  {
   "cell_type": "code",
   "execution_count": null,
   "metadata": {},
   "outputs": [],
   "source": [
    "nov=df.iloc[20544:23424,1]"
   ]
  },
  {
   "cell_type": "code",
   "execution_count": null,
   "metadata": {},
   "outputs": [],
   "source": [
    "dec=df.iloc[23424:26400,1]\n",
    "dec.dtypes"
   ]
  },
  {
   "cell_type": "code",
   "execution_count": null,
   "metadata": {},
   "outputs": [],
   "source": [
    "def stats(df):\n",
    "    print(max(df))\n",
    "    print(min(df))\n",
    "#     print(mode(df))"
   ]
  },
  {
   "cell_type": "code",
   "execution_count": null,
   "metadata": {},
   "outputs": [],
   "source": [
    "stats(dec)"
   ]
  },
  {
   "cell_type": "code",
   "execution_count": null,
   "metadata": {},
   "outputs": [],
   "source": [
    "max_min= pd.DataFrame()"
   ]
  },
  {
   "cell_type": "code",
   "execution_count": null,
   "metadata": {},
   "outputs": [],
   "source": [
    "# max_min['max']=0\n",
    "# max_min['min']=0"
   ]
  },
  {
   "cell_type": "code",
   "execution_count": null,
   "metadata": {},
   "outputs": [],
   "source": [
    "max_min['max']=max_min['max'].append(stats(dec))"
   ]
  },
  {
   "cell_type": "code",
   "execution_count": null,
   "metadata": {},
   "outputs": [],
   "source": [
    "max_min['max']=max_min['max'].append(stats(nov))"
   ]
  },
  {
   "cell_type": "code",
   "execution_count": null,
   "metadata": {},
   "outputs": [],
   "source": [
    "max_min.head()"
   ]
  },
  {
   "cell_type": "code",
   "execution_count": null,
   "metadata": {},
   "outputs": [],
   "source": [
    "maxi=[]\n",
    "maxi.append(max(apr))\n",
    "maxi.append(max(may))\n",
    "maxi.append(max(jun))\n",
    "maxi.append(max(jul))\n",
    "maxi.append(max(aug))\n",
    "maxi.append(max(sept))\n",
    "maxi.append(max(octo))\n",
    "maxi.append(max(nov))\n",
    "maxi.append(max(dec))"
   ]
  },
  {
   "cell_type": "code",
   "execution_count": null,
   "metadata": {},
   "outputs": [],
   "source": [
    "maxi"
   ]
  },
  {
   "cell_type": "code",
   "execution_count": null,
   "metadata": {},
   "outputs": [],
   "source": [
    "mini=[]\n",
    "mini.append(min(apr))\n",
    "mini.append(min(may))\n",
    "mini.append(min(jun))\n",
    "mini.append(min(jul))\n",
    "mini.append(min(aug))\n",
    "mini.append(min(sept))\n",
    "mini.append(min(octo))\n",
    "mini.append(min(nov))\n",
    "mini.append(min(dec))"
   ]
  },
  {
   "cell_type": "code",
   "execution_count": null,
   "metadata": {},
   "outputs": [],
   "source": [
    "mini"
   ]
  },
  {
   "cell_type": "code",
   "execution_count": null,
   "metadata": {},
   "outputs": [],
   "source": [
    "mon=['apr','may','jun','jul','aug','sept','oct','nov','dec']"
   ]
  },
  {
   "cell_type": "code",
   "execution_count": null,
   "metadata": {},
   "outputs": [],
   "source": [
    "plt.plot(mon,maxi)"
   ]
  },
  {
   "cell_type": "code",
   "execution_count": null,
   "metadata": {},
   "outputs": [],
   "source": [
    "plt.plot(mon,mini)"
   ]
  },
  {
   "cell_type": "code",
   "execution_count": null,
   "metadata": {},
   "outputs": [],
   "source": [
    "meani=[]\n",
    "meani.append(mean(apr))\n",
    "meani.append(mean(may))\n",
    "meani.append(mean(jun))\n",
    "meani.append(mean(jul))\n",
    "meani.append(mean(aug))\n",
    "meani.append(mean(sept))\n",
    "meani.append(mean(octo))\n",
    "meani.append(mean(nov))\n",
    "meani.append(mean(dec))\n",
    ".6+plt.plot(mon,meani)"
   ]
  },
  {
   "cell_type": "code",
   "execution_count": null,
   "metadata": {},
   "outputs": [],
   "source": [
    "meani"
   ]
  },
  {
   "cell_type": "code",
   "execution_count": null,
   "metadata": {},
   "outputs": [],
   "source": [
    "x=range(2880)\n",
    "plt.plot(x,sept[:])"
   ]
  },
  {
   "cell_type": "code",
   "execution_count": null,
   "metadata": {},
   "outputs": [],
   "source": []
  }
 ],
 "metadata": {
  "kernelspec": {
   "display_name": "Python 3",
   "language": "python",
   "name": "python3"
  },
  "language_info": {
   "codemirror_mode": {
    "name": "ipython",
    "version": 3
   },
   "file_extension": ".py",
   "mimetype": "text/x-python",
   "name": "python",
   "nbconvert_exporter": "python",
   "pygments_lexer": "ipython3",
   "version": "3.7.1"
  }
 },
 "nbformat": 4,
 "nbformat_minor": 2
}
