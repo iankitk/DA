{
  "nbformat": 4,
  "nbformat_minor": 0,
  "metadata": {
    "colab": {
      "name": "Building_5.ipynb",
      "provenance": []
    },
    "kernelspec": {
      "name": "python3",
      "display_name": "Python 3"
    }
  },
  "cells": [
    {
      "cell_type": "code",
      "metadata": {
        "id": "q_G_l-OpaDqi",
        "colab_type": "code",
        "colab": {}
      },
      "source": [
        "def error_function(y_true,ypred):\n",
        "    #print(y_true)\n",
        "    #print(ypred)\n",
        "    import math\n",
        "    import numpy as np\n",
        "    y_true=np.array(y_true)\n",
        "    ypred=np.array(ypred)\n",
        "    diff=np.subtract(y_true,ypred)\n",
        "    sqdiff=np.square(diff)\n",
        "    #print(sqdiff)\n",
        "    k=math.log(2)/100\n",
        "    weights=[]\n",
        "    for i in range(0,len(y_true)):\n",
        "        weights.append(math.exp(-(int((i+1)/96)+1)*k))\n",
        "    weights=np.array(weights)\n",
        "    #print(weights)\n",
        "    product=np.dot(sqdiff,weights)\n",
        "    root_product=math.sqrt(product)\n",
        "    loss=(1/np.mean(y_true))*root_product\n",
        "    print(loss)\n",
        "    return loss\n",
        "#Importing the librarries\n",
        "import pandas as pd\n",
        "import numpy as np\n",
        "import matplotlib.pyplot as plt\n"
      ],
      "execution_count": 0,
      "outputs": []
    },
    {
      "cell_type": "code",
      "metadata": {
        "colab_type": "code",
        "id": "ZUeLKrIgdMz-",
        "outputId": "6788fae1-d9ae-48cd-953f-6ce7d969e4cf",
        "colab": {
          "base_uri": "https://localhost:8080/",
          "height": 34
        }
      },
      "source": [
        "########### \n",
        "from google.colab import drive #importing from google drive\n",
        "drive.mount(\"/content/gdrive\")\n",
        "\n",
        "\n"
      ],
      "execution_count": 0,
      "outputs": [
        {
          "output_type": "stream",
          "text": [
            "Drive already mounted at /content/gdrive; to attempt to forcibly remount, call drive.mount(\"/content/gdrive\", force_remount=True).\n"
          ],
          "name": "stdout"
        }
      ]
    },
    {
      "cell_type": "code",
      "metadata": {
        "id": "rfeU0NYTdN9b",
        "colab_type": "code",
        "outputId": "b7b20184-af88-4361-9057-cc289cbe86fd",
        "colab": {
          "base_uri": "https://localhost:8080/",
          "height": 423
        }
      },
      "source": [
        "dataset= pd.read_csv('/content/gdrive/My Drive/DA_GC_2020/building5_withfeatures.csv')\n",
        "#Importing the dataset\n",
        "# dataset=pd.read_csv('building5_withFeatures.csv')\n",
        "# dataset=dataset.drop(['date','building_number'],axis=1)\n",
        "dataset.head()"
      ],
      "execution_count": 0,
      "outputs": [
        {
          "output_type": "execute_result",
          "data": {
            "text/html": [
              "<div>\n",
              "<style scoped>\n",
              "    .dataframe tbody tr th:only-of-type {\n",
              "        vertical-align: middle;\n",
              "    }\n",
              "\n",
              "    .dataframe tbody tr th {\n",
              "        vertical-align: top;\n",
              "    }\n",
              "\n",
              "    .dataframe thead th {\n",
              "        text-align: right;\n",
              "    }\n",
              "</style>\n",
              "<table border=\"1\" class=\"dataframe\">\n",
              "  <thead>\n",
              "    <tr style=\"text-align: right;\">\n",
              "      <th></th>\n",
              "      <th>date</th>\n",
              "      <th>time</th>\n",
              "      <th>main_meter</th>\n",
              "      <th>sub_meter_1</th>\n",
              "      <th>sub_meter_2</th>\n",
              "      <th>building_number</th>\n",
              "      <th>MM_t_m15</th>\n",
              "      <th>MM_t_m30</th>\n",
              "      <th>MM_t_m45</th>\n",
              "      <th>MM_t_m60</th>\n",
              "      <th>MM_pdt</th>\n",
              "      <th>MM_pdt_m15</th>\n",
              "      <th>MM_pdt_m30</th>\n",
              "      <th>MM_pdt_m45</th>\n",
              "      <th>MM_pdt_m60</th>\n",
              "      <th>MM_pdt_p15</th>\n",
              "      <th>MM_pdt_p30</th>\n",
              "      <th>MM_pdt_p45</th>\n",
              "      <th>MM_pdt_p60</th>\n",
              "      <th>S1_t_m15</th>\n",
              "      <th>S1_t_m30</th>\n",
              "      <th>S1_t_m45</th>\n",
              "      <th>S1_t_m60</th>\n",
              "      <th>S1_pdt</th>\n",
              "      <th>S1_pdt_m15</th>\n",
              "      <th>S1_pdt_m30</th>\n",
              "      <th>S1_pdt_m45</th>\n",
              "      <th>S1_pdt_m60</th>\n",
              "      <th>S1_pdt_p15</th>\n",
              "      <th>S1_pdt_p30</th>\n",
              "      <th>S1_pdt_p45</th>\n",
              "      <th>S1_pdt_p60</th>\n",
              "      <th>S2_t_m15</th>\n",
              "      <th>S2_t_m30</th>\n",
              "      <th>S2_t_m45</th>\n",
              "      <th>S2_t_m60</th>\n",
              "      <th>S2_pdt</th>\n",
              "      <th>S2_pdt_m15</th>\n",
              "      <th>S2_pdt_m30</th>\n",
              "      <th>S2_pdt_m45</th>\n",
              "      <th>...</th>\n",
              "      <th>MM_pw_t_m45</th>\n",
              "      <th>MM_pw_t_m60</th>\n",
              "      <th>MM_pw_pdt</th>\n",
              "      <th>MM_pw_pdt_m15</th>\n",
              "      <th>MM_pw_pdt_m30</th>\n",
              "      <th>MM_pw_pdt_m45</th>\n",
              "      <th>MM_pw_pdt_m60</th>\n",
              "      <th>MM_pw_pdt_p15</th>\n",
              "      <th>MM_pw_pdt_p30</th>\n",
              "      <th>MM_pw_pdt_p45</th>\n",
              "      <th>MM_pw_pdt_p60</th>\n",
              "      <th>S1_pw_t_m15</th>\n",
              "      <th>S1_pw_t_m30</th>\n",
              "      <th>S1_pw_t_m45</th>\n",
              "      <th>S1_pw_t_m60</th>\n",
              "      <th>S1_pw_pdt</th>\n",
              "      <th>S1_pw_pdt_m15</th>\n",
              "      <th>S1_pw_pdt_m30</th>\n",
              "      <th>S1_pw_pdt_m45</th>\n",
              "      <th>S1_pw_pdt_m60</th>\n",
              "      <th>S1_pw_pdt_p15</th>\n",
              "      <th>S1_pw_pdt_p30</th>\n",
              "      <th>S1_pw_pdt_p45</th>\n",
              "      <th>S1_pw_pdt_p60</th>\n",
              "      <th>S2_pw_pdt</th>\n",
              "      <th>S2_pw_pdt_m15</th>\n",
              "      <th>S2_pw_pdt_m30</th>\n",
              "      <th>S2_pw_pdt_m45</th>\n",
              "      <th>S2_pw_pdt_m60</th>\n",
              "      <th>S2_pw_pdt_p15</th>\n",
              "      <th>S2_pw_pdt_p30</th>\n",
              "      <th>S2_pw_pdt_p45</th>\n",
              "      <th>S2_pw_pdt_p60</th>\n",
              "      <th>Issunday</th>\n",
              "      <th>Wasprevweekday</th>\n",
              "      <th>Isbussinesshour</th>\n",
              "      <th>Ismorning</th>\n",
              "      <th>Isevening</th>\n",
              "      <th>Isnight</th>\n",
              "      <th>Season</th>\n",
              "    </tr>\n",
              "  </thead>\n",
              "  <tbody>\n",
              "    <tr>\n",
              "      <th>0</th>\n",
              "      <td>08-04-2017</td>\n",
              "      <td>01:15</td>\n",
              "      <td>1881.299658</td>\n",
              "      <td>1015.942178</td>\n",
              "      <td>0.000000</td>\n",
              "      <td>5</td>\n",
              "      <td>2111.237462</td>\n",
              "      <td>2157.656240</td>\n",
              "      <td>2207.273978</td>\n",
              "      <td>2190.419046</td>\n",
              "      <td>2109.833954</td>\n",
              "      <td>2310.345830</td>\n",
              "      <td>2371.821043</td>\n",
              "      <td>2480.426325</td>\n",
              "      <td>2474.063359</td>\n",
              "      <td>2318.851431</td>\n",
              "      <td>2440.982429</td>\n",
              "      <td>2281.231925</td>\n",
              "      <td>2296.136510</td>\n",
              "      <td>1174.422013</td>\n",
              "      <td>1243.123031</td>\n",
              "      <td>1242.368838</td>\n",
              "      <td>1239.903785</td>\n",
              "      <td>1130.452367</td>\n",
              "      <td>1289.229593</td>\n",
              "      <td>1337.761008</td>\n",
              "      <td>1580.070855</td>\n",
              "      <td>1480.032345</td>\n",
              "      <td>1351.750178</td>\n",
              "      <td>1421.660769</td>\n",
              "      <td>1234.272788</td>\n",
              "      <td>1403.023027</td>\n",
              "      <td>0.000000</td>\n",
              "      <td>3.027116</td>\n",
              "      <td>0.000000</td>\n",
              "      <td>0.360061</td>\n",
              "      <td>0.000000</td>\n",
              "      <td>0.000000</td>\n",
              "      <td>0.000000</td>\n",
              "      <td>0.559380</td>\n",
              "      <td>...</td>\n",
              "      <td>0.000000</td>\n",
              "      <td>0.360061</td>\n",
              "      <td>2402.380252</td>\n",
              "      <td>2239.200211</td>\n",
              "      <td>2212.829422</td>\n",
              "      <td>2284.942103</td>\n",
              "      <td>2121.676884</td>\n",
              "      <td>2112.808329</td>\n",
              "      <td>2512.776218</td>\n",
              "      <td>2249.270467</td>\n",
              "      <td>2466.327094</td>\n",
              "      <td>0.000000</td>\n",
              "      <td>3.027116</td>\n",
              "      <td>0.000000</td>\n",
              "      <td>0.360061</td>\n",
              "      <td>1361.699861</td>\n",
              "      <td>1270.958430</td>\n",
              "      <td>1284.544122</td>\n",
              "      <td>1315.318128</td>\n",
              "      <td>1163.737726</td>\n",
              "      <td>1221.018243</td>\n",
              "      <td>1435.435684</td>\n",
              "      <td>1265.663611</td>\n",
              "      <td>1470.232742</td>\n",
              "      <td>1361.699861</td>\n",
              "      <td>0.000000</td>\n",
              "      <td>0.000000</td>\n",
              "      <td>7.692785</td>\n",
              "      <td>0.000000</td>\n",
              "      <td>4.812681</td>\n",
              "      <td>0.000000</td>\n",
              "      <td>0.000000</td>\n",
              "      <td>0.932057</td>\n",
              "      <td>0</td>\n",
              "      <td>1</td>\n",
              "      <td>0</td>\n",
              "      <td>0</td>\n",
              "      <td>0</td>\n",
              "      <td>1</td>\n",
              "      <td>1</td>\n",
              "    </tr>\n",
              "    <tr>\n",
              "      <th>1</th>\n",
              "      <td>08-04-2017</td>\n",
              "      <td>01:30</td>\n",
              "      <td>2327.715361</td>\n",
              "      <td>1351.488351</td>\n",
              "      <td>0.000000</td>\n",
              "      <td>5</td>\n",
              "      <td>1881.299658</td>\n",
              "      <td>2111.237462</td>\n",
              "      <td>2157.656240</td>\n",
              "      <td>2207.273978</td>\n",
              "      <td>2318.851431</td>\n",
              "      <td>2109.833954</td>\n",
              "      <td>2310.345830</td>\n",
              "      <td>2371.821043</td>\n",
              "      <td>2480.426325</td>\n",
              "      <td>2440.982429</td>\n",
              "      <td>2281.231925</td>\n",
              "      <td>2296.136510</td>\n",
              "      <td>2307.198064</td>\n",
              "      <td>1015.942178</td>\n",
              "      <td>1174.422013</td>\n",
              "      <td>1243.123031</td>\n",
              "      <td>1242.368838</td>\n",
              "      <td>1351.750178</td>\n",
              "      <td>1130.452367</td>\n",
              "      <td>1289.229593</td>\n",
              "      <td>1337.761008</td>\n",
              "      <td>1580.070855</td>\n",
              "      <td>1421.660769</td>\n",
              "      <td>1234.272788</td>\n",
              "      <td>1403.023027</td>\n",
              "      <td>1316.594784</td>\n",
              "      <td>0.000000</td>\n",
              "      <td>0.000000</td>\n",
              "      <td>3.027116</td>\n",
              "      <td>0.000000</td>\n",
              "      <td>6.411043</td>\n",
              "      <td>0.000000</td>\n",
              "      <td>0.000000</td>\n",
              "      <td>0.000000</td>\n",
              "      <td>...</td>\n",
              "      <td>3.027116</td>\n",
              "      <td>0.000000</td>\n",
              "      <td>2112.808329</td>\n",
              "      <td>2402.380252</td>\n",
              "      <td>2239.200211</td>\n",
              "      <td>2212.829422</td>\n",
              "      <td>2284.942103</td>\n",
              "      <td>2512.776218</td>\n",
              "      <td>2249.270467</td>\n",
              "      <td>2466.327094</td>\n",
              "      <td>2166.598344</td>\n",
              "      <td>0.000000</td>\n",
              "      <td>0.000000</td>\n",
              "      <td>3.027116</td>\n",
              "      <td>0.000000</td>\n",
              "      <td>1221.018243</td>\n",
              "      <td>1361.699861</td>\n",
              "      <td>1270.958430</td>\n",
              "      <td>1284.544122</td>\n",
              "      <td>1315.318128</td>\n",
              "      <td>1435.435684</td>\n",
              "      <td>1265.663611</td>\n",
              "      <td>1470.232742</td>\n",
              "      <td>1115.531456</td>\n",
              "      <td>1221.018243</td>\n",
              "      <td>0.000000</td>\n",
              "      <td>0.000000</td>\n",
              "      <td>0.000000</td>\n",
              "      <td>7.692785</td>\n",
              "      <td>0.000000</td>\n",
              "      <td>0.000000</td>\n",
              "      <td>0.932057</td>\n",
              "      <td>0.000000</td>\n",
              "      <td>0</td>\n",
              "      <td>1</td>\n",
              "      <td>0</td>\n",
              "      <td>0</td>\n",
              "      <td>0</td>\n",
              "      <td>1</td>\n",
              "      <td>1</td>\n",
              "    </tr>\n",
              "    <tr>\n",
              "      <th>2</th>\n",
              "      <td>08-04-2017</td>\n",
              "      <td>01:45</td>\n",
              "      <td>2209.650186</td>\n",
              "      <td>1189.409489</td>\n",
              "      <td>5.323273</td>\n",
              "      <td>5</td>\n",
              "      <td>2327.715361</td>\n",
              "      <td>1881.299658</td>\n",
              "      <td>2111.237462</td>\n",
              "      <td>2157.656240</td>\n",
              "      <td>2440.982429</td>\n",
              "      <td>2318.851431</td>\n",
              "      <td>2109.833954</td>\n",
              "      <td>2310.345830</td>\n",
              "      <td>2371.821043</td>\n",
              "      <td>2281.231925</td>\n",
              "      <td>2296.136510</td>\n",
              "      <td>2307.198064</td>\n",
              "      <td>2530.172309</td>\n",
              "      <td>1351.488351</td>\n",
              "      <td>1015.942178</td>\n",
              "      <td>1174.422013</td>\n",
              "      <td>1243.123031</td>\n",
              "      <td>1421.660769</td>\n",
              "      <td>1351.750178</td>\n",
              "      <td>1130.452367</td>\n",
              "      <td>1289.229593</td>\n",
              "      <td>1337.761008</td>\n",
              "      <td>1234.272788</td>\n",
              "      <td>1403.023027</td>\n",
              "      <td>1316.594784</td>\n",
              "      <td>1537.620138</td>\n",
              "      <td>0.000000</td>\n",
              "      <td>0.000000</td>\n",
              "      <td>0.000000</td>\n",
              "      <td>3.027116</td>\n",
              "      <td>0.000000</td>\n",
              "      <td>6.411043</td>\n",
              "      <td>0.000000</td>\n",
              "      <td>0.000000</td>\n",
              "      <td>...</td>\n",
              "      <td>0.000000</td>\n",
              "      <td>3.027116</td>\n",
              "      <td>2512.776218</td>\n",
              "      <td>2112.808329</td>\n",
              "      <td>2402.380252</td>\n",
              "      <td>2239.200211</td>\n",
              "      <td>2212.829422</td>\n",
              "      <td>2249.270467</td>\n",
              "      <td>2466.327094</td>\n",
              "      <td>2166.598344</td>\n",
              "      <td>2412.269736</td>\n",
              "      <td>0.000000</td>\n",
              "      <td>0.000000</td>\n",
              "      <td>0.000000</td>\n",
              "      <td>3.027116</td>\n",
              "      <td>1435.435684</td>\n",
              "      <td>1221.018243</td>\n",
              "      <td>1361.699861</td>\n",
              "      <td>1270.958430</td>\n",
              "      <td>1284.544122</td>\n",
              "      <td>1265.663611</td>\n",
              "      <td>1470.232742</td>\n",
              "      <td>1115.531456</td>\n",
              "      <td>1361.284596</td>\n",
              "      <td>1435.435684</td>\n",
              "      <td>4.812681</td>\n",
              "      <td>0.000000</td>\n",
              "      <td>0.000000</td>\n",
              "      <td>0.000000</td>\n",
              "      <td>0.000000</td>\n",
              "      <td>0.932057</td>\n",
              "      <td>0.000000</td>\n",
              "      <td>0.000000</td>\n",
              "      <td>0</td>\n",
              "      <td>1</td>\n",
              "      <td>0</td>\n",
              "      <td>0</td>\n",
              "      <td>0</td>\n",
              "      <td>1</td>\n",
              "      <td>1</td>\n",
              "    </tr>\n",
              "    <tr>\n",
              "      <th>3</th>\n",
              "      <td>08-04-2017</td>\n",
              "      <td>02:00</td>\n",
              "      <td>2215.042573</td>\n",
              "      <td>1181.185277</td>\n",
              "      <td>0.000000</td>\n",
              "      <td>5</td>\n",
              "      <td>2209.650186</td>\n",
              "      <td>2327.715361</td>\n",
              "      <td>1881.299658</td>\n",
              "      <td>2111.237462</td>\n",
              "      <td>2281.231925</td>\n",
              "      <td>2440.982429</td>\n",
              "      <td>2318.851431</td>\n",
              "      <td>2109.833954</td>\n",
              "      <td>2310.345830</td>\n",
              "      <td>2296.136510</td>\n",
              "      <td>2307.198064</td>\n",
              "      <td>2530.172309</td>\n",
              "      <td>2094.268817</td>\n",
              "      <td>1189.409489</td>\n",
              "      <td>1351.488351</td>\n",
              "      <td>1015.942178</td>\n",
              "      <td>1174.422013</td>\n",
              "      <td>1234.272788</td>\n",
              "      <td>1421.660769</td>\n",
              "      <td>1351.750178</td>\n",
              "      <td>1130.452367</td>\n",
              "      <td>1289.229593</td>\n",
              "      <td>1403.023027</td>\n",
              "      <td>1316.594784</td>\n",
              "      <td>1537.620138</td>\n",
              "      <td>1271.017065</td>\n",
              "      <td>5.323273</td>\n",
              "      <td>0.000000</td>\n",
              "      <td>0.000000</td>\n",
              "      <td>0.000000</td>\n",
              "      <td>0.000000</td>\n",
              "      <td>0.000000</td>\n",
              "      <td>6.411043</td>\n",
              "      <td>0.000000</td>\n",
              "      <td>...</td>\n",
              "      <td>0.000000</td>\n",
              "      <td>0.000000</td>\n",
              "      <td>2249.270467</td>\n",
              "      <td>2512.776218</td>\n",
              "      <td>2112.808329</td>\n",
              "      <td>2402.380252</td>\n",
              "      <td>2239.200211</td>\n",
              "      <td>2466.327094</td>\n",
              "      <td>2166.598344</td>\n",
              "      <td>2412.269736</td>\n",
              "      <td>2321.040702</td>\n",
              "      <td>5.323273</td>\n",
              "      <td>0.000000</td>\n",
              "      <td>0.000000</td>\n",
              "      <td>0.000000</td>\n",
              "      <td>1265.663611</td>\n",
              "      <td>1435.435684</td>\n",
              "      <td>1221.018243</td>\n",
              "      <td>1361.699861</td>\n",
              "      <td>1270.958430</td>\n",
              "      <td>1470.232742</td>\n",
              "      <td>1115.531456</td>\n",
              "      <td>1361.284596</td>\n",
              "      <td>1186.948549</td>\n",
              "      <td>1265.663611</td>\n",
              "      <td>0.000000</td>\n",
              "      <td>4.812681</td>\n",
              "      <td>0.000000</td>\n",
              "      <td>0.000000</td>\n",
              "      <td>0.932057</td>\n",
              "      <td>0.000000</td>\n",
              "      <td>0.000000</td>\n",
              "      <td>0.000000</td>\n",
              "      <td>0</td>\n",
              "      <td>1</td>\n",
              "      <td>0</td>\n",
              "      <td>0</td>\n",
              "      <td>0</td>\n",
              "      <td>1</td>\n",
              "      <td>1</td>\n",
              "    </tr>\n",
              "    <tr>\n",
              "      <th>4</th>\n",
              "      <td>08-04-2017</td>\n",
              "      <td>02:15</td>\n",
              "      <td>1910.043791</td>\n",
              "      <td>1045.242412</td>\n",
              "      <td>0.000000</td>\n",
              "      <td>5</td>\n",
              "      <td>2215.042573</td>\n",
              "      <td>2209.650186</td>\n",
              "      <td>2327.715361</td>\n",
              "      <td>1881.299658</td>\n",
              "      <td>2296.136510</td>\n",
              "      <td>2281.231925</td>\n",
              "      <td>2440.982429</td>\n",
              "      <td>2318.851431</td>\n",
              "      <td>2109.833954</td>\n",
              "      <td>2307.198064</td>\n",
              "      <td>2530.172309</td>\n",
              "      <td>2094.268817</td>\n",
              "      <td>2529.687058</td>\n",
              "      <td>1181.185277</td>\n",
              "      <td>1189.409489</td>\n",
              "      <td>1351.488351</td>\n",
              "      <td>1015.942178</td>\n",
              "      <td>1403.023027</td>\n",
              "      <td>1234.272788</td>\n",
              "      <td>1421.660769</td>\n",
              "      <td>1351.750178</td>\n",
              "      <td>1130.452367</td>\n",
              "      <td>1316.594784</td>\n",
              "      <td>1537.620138</td>\n",
              "      <td>1271.017065</td>\n",
              "      <td>1389.318674</td>\n",
              "      <td>0.000000</td>\n",
              "      <td>5.323273</td>\n",
              "      <td>0.000000</td>\n",
              "      <td>0.000000</td>\n",
              "      <td>0.000000</td>\n",
              "      <td>0.000000</td>\n",
              "      <td>0.000000</td>\n",
              "      <td>6.411043</td>\n",
              "      <td>...</td>\n",
              "      <td>0.000000</td>\n",
              "      <td>0.000000</td>\n",
              "      <td>2466.327094</td>\n",
              "      <td>2249.270467</td>\n",
              "      <td>2512.776218</td>\n",
              "      <td>2112.808329</td>\n",
              "      <td>2402.380252</td>\n",
              "      <td>2166.598344</td>\n",
              "      <td>2412.269736</td>\n",
              "      <td>2321.040702</td>\n",
              "      <td>2380.599711</td>\n",
              "      <td>0.000000</td>\n",
              "      <td>5.323273</td>\n",
              "      <td>0.000000</td>\n",
              "      <td>0.000000</td>\n",
              "      <td>1470.232742</td>\n",
              "      <td>1265.663611</td>\n",
              "      <td>1435.435684</td>\n",
              "      <td>1221.018243</td>\n",
              "      <td>1361.699861</td>\n",
              "      <td>1115.531456</td>\n",
              "      <td>1361.284596</td>\n",
              "      <td>1186.948549</td>\n",
              "      <td>1279.644060</td>\n",
              "      <td>1470.232742</td>\n",
              "      <td>0.000000</td>\n",
              "      <td>0.000000</td>\n",
              "      <td>4.812681</td>\n",
              "      <td>0.000000</td>\n",
              "      <td>0.000000</td>\n",
              "      <td>0.000000</td>\n",
              "      <td>0.000000</td>\n",
              "      <td>0.000000</td>\n",
              "      <td>0</td>\n",
              "      <td>1</td>\n",
              "      <td>0</td>\n",
              "      <td>0</td>\n",
              "      <td>0</td>\n",
              "      <td>1</td>\n",
              "      <td>1</td>\n",
              "    </tr>\n",
              "  </tbody>\n",
              "</table>\n",
              "<p>5 rows × 87 columns</p>\n",
              "</div>"
            ],
            "text/plain": [
              "         date   time   main_meter  ...  Isevening  Isnight  Season\n",
              "0  08-04-2017  01:15  1881.299658  ...          0        1       1\n",
              "1  08-04-2017  01:30  2327.715361  ...          0        1       1\n",
              "2  08-04-2017  01:45  2209.650186  ...          0        1       1\n",
              "3  08-04-2017  02:00  2215.042573  ...          0        1       1\n",
              "4  08-04-2017  02:15  1910.043791  ...          0        1       1\n",
              "\n",
              "[5 rows x 87 columns]"
            ]
          },
          "metadata": {
            "tags": []
          },
          "execution_count": 34
        }
      ]
    },
    {
      "cell_type": "code",
      "metadata": {
        "id": "xkXBKkQbc9Om",
        "colab_type": "code",
        "outputId": "d4bce4e0-3a3f-4165-88fc-864307f0d97f",
        "colab": {
          "base_uri": "https://localhost:8080/",
          "height": 34
        }
      },
      "source": [
        "#viewing the column names\n",
        "list(dataset.columns.values)\n",
        "df1=dataset.loc[dataset['Season'] == 1]\n",
        "df3=dataset.loc[dataset['Season'] == 3]\n",
        "df4=dataset.loc[dataset['Season'] == 4]\n",
        "#Forming the dependent and independent variables of training data\n",
        "# Y=np.array(df3['sub_meter_1'])\n",
        "# X=df3.drop(['main_meter','sub_meter_1','sub_meter_2'],axis=1)\n",
        "#Checking for null values\n",
        "pd.isna(X).any()\n",
        "pd.isna(Y).any()\n"
      ],
      "execution_count": 0,
      "outputs": [
        {
          "output_type": "execute_result",
          "data": {
            "text/plain": [
              "False"
            ]
          },
          "metadata": {
            "tags": []
          },
          "execution_count": 19
        }
      ]
    },
    {
      "cell_type": "code",
      "metadata": {
        "id": "qNZvnICL9l2F",
        "colab_type": "code",
        "outputId": "12b61da1-98a7-4b07-a695-ce43d069d1c3",
        "colab": {
          "base_uri": "https://localhost:8080/",
          "height": 34
        }
      },
      "source": [
        "dataset=dataset[dataset['Season']!=2]\n",
        "X_test=dataset.loc['01-10-2017':'31-10-2017']\n",
        "X_train=dataset.loc['08-04-2017':'30-09-2017']\n",
        "X_train=X_train.drop(['date','time','building_number','main_meter'],axis=1)\n",
        "X_test=X_test.drop(['date','time','building_number','main_meter'],axis=1)\n",
        "\n",
        "ser=dataset.loc['08-04-2017':'30-09-2017']\n",
        "y_train=(ser['main_meter'])\n",
        "sed=dataset.loc['01-10-2017':'31-10-2017']\n",
        "y_test=(sed['main_meter'])\n",
        "X_train.shape\n",
        "\n",
        "#np.array\n",
        "\n"
      ],
      "execution_count": 0,
      "outputs": [
        {
          "output_type": "execute_result",
          "data": {
            "text/plain": [
              "(18330, 83)"
            ]
          },
          "metadata": {
            "tags": []
          },
          "execution_count": 23
        }
      ]
    },
    {
      "cell_type": "code",
      "metadata": {
        "id": "RkfwA00UeE20",
        "colab_type": "code",
        "outputId": "396b4604-d88a-4a63-bf42-24f79e914ca6",
        "colab": {
          "base_uri": "https://localhost:8080/",
          "height": 251
        }
      },
      "source": [
        "#Encoding\n",
        "from sklearn.preprocessing import LabelEncoder,OneHotEncoder \n",
        "from sklearn.compose import ColumnTransformer\n",
        "labelencoder_X=LabelEncoder()\n",
        "X.iloc[:,[0]]=labelencoder_X.fit_transform(X.iloc[:,[0]])\n",
        "ct = ColumnTransformer([('one_hot_encoder', OneHotEncoder(categories='auto'), [0])],remainder='passthrough' )                                        # Leave the rest of the columns untouched\n",
        "X = ct.fit_transform(X)\n",
        "# Y.iloc[:,[0]]=labelencoder_X.fit_transform(Y.iloc[:,[0]])\n",
        "# ct = ColumnTransformer([('one_hot_encoder', OneHotEncoder(categories='auto'), [0])],remainder='passthrough' )                                        # Leave the rest of the columns untouched\n",
        "# Y = ct.fit_transform(Y)\n",
        "# #Encoding\n",
        "# from sklearn.preprocessing import LabelEncoder,OneHotEncoder \n",
        "# labelencoder_X=LabelEncoder()\n",
        "# X.iloc[:,[0]]=labelencoder_X.fit_transform(X.iloc[:,[0]])\n",
        "# onehotencoder= OneHotEncoder(categories=[0])\n",
        "# X=onehotencoder.fit_transform(X).toarray()\n"
      ],
      "execution_count": 0,
      "outputs": [
        {
          "output_type": "error",
          "ename": "AttributeError",
          "evalue": "ignored",
          "traceback": [
            "\u001b[0;31m---------------------------------------------------------------------------\u001b[0m",
            "\u001b[0;31mAttributeError\u001b[0m                            Traceback (most recent call last)",
            "\u001b[0;32m<ipython-input-24-dab86f201660>\u001b[0m in \u001b[0;36m<module>\u001b[0;34m()\u001b[0m\n\u001b[1;32m      2\u001b[0m \u001b[0;32mfrom\u001b[0m \u001b[0msklearn\u001b[0m\u001b[0;34m.\u001b[0m\u001b[0mcompose\u001b[0m \u001b[0;32mimport\u001b[0m \u001b[0mColumnTransformer\u001b[0m\u001b[0;34m\u001b[0m\u001b[0;34m\u001b[0m\u001b[0m\n\u001b[1;32m      3\u001b[0m \u001b[0mlabelencoder_X\u001b[0m\u001b[0;34m=\u001b[0m\u001b[0mLabelEncoder\u001b[0m\u001b[0;34m(\u001b[0m\u001b[0;34m)\u001b[0m\u001b[0;34m\u001b[0m\u001b[0;34m\u001b[0m\u001b[0m\n\u001b[0;32m----> 4\u001b[0;31m \u001b[0mX\u001b[0m\u001b[0;34m.\u001b[0m\u001b[0miloc\u001b[0m\u001b[0;34m[\u001b[0m\u001b[0;34m:\u001b[0m\u001b[0;34m,\u001b[0m\u001b[0;34m[\u001b[0m\u001b[0;36m0\u001b[0m\u001b[0;34m]\u001b[0m\u001b[0;34m]\u001b[0m\u001b[0;34m=\u001b[0m\u001b[0mlabelencoder_X\u001b[0m\u001b[0;34m.\u001b[0m\u001b[0mfit_transform\u001b[0m\u001b[0;34m(\u001b[0m\u001b[0mX\u001b[0m\u001b[0;34m.\u001b[0m\u001b[0miloc\u001b[0m\u001b[0;34m[\u001b[0m\u001b[0;34m:\u001b[0m\u001b[0;34m,\u001b[0m\u001b[0;34m[\u001b[0m\u001b[0;36m0\u001b[0m\u001b[0;34m]\u001b[0m\u001b[0;34m]\u001b[0m\u001b[0;34m)\u001b[0m\u001b[0;34m\u001b[0m\u001b[0;34m\u001b[0m\u001b[0m\n\u001b[0m\u001b[1;32m      5\u001b[0m \u001b[0mct\u001b[0m \u001b[0;34m=\u001b[0m \u001b[0mColumnTransformer\u001b[0m\u001b[0;34m(\u001b[0m\u001b[0;34m[\u001b[0m\u001b[0;34m(\u001b[0m\u001b[0;34m'one_hot_encoder'\u001b[0m\u001b[0;34m,\u001b[0m \u001b[0mOneHotEncoder\u001b[0m\u001b[0;34m(\u001b[0m\u001b[0mcategories\u001b[0m\u001b[0;34m=\u001b[0m\u001b[0;34m'auto'\u001b[0m\u001b[0;34m)\u001b[0m\u001b[0;34m,\u001b[0m \u001b[0;34m[\u001b[0m\u001b[0;36m0\u001b[0m\u001b[0;34m]\u001b[0m\u001b[0;34m)\u001b[0m\u001b[0;34m]\u001b[0m\u001b[0;34m,\u001b[0m\u001b[0mremainder\u001b[0m\u001b[0;34m=\u001b[0m\u001b[0;34m'passthrough'\u001b[0m \u001b[0;34m)\u001b[0m                                        \u001b[0;31m# Leave the rest of the columns untouched\u001b[0m\u001b[0;34m\u001b[0m\u001b[0;34m\u001b[0m\u001b[0m\n\u001b[1;32m      6\u001b[0m \u001b[0mX\u001b[0m \u001b[0;34m=\u001b[0m \u001b[0mct\u001b[0m\u001b[0;34m.\u001b[0m\u001b[0mfit_transform\u001b[0m\u001b[0;34m(\u001b[0m\u001b[0mX\u001b[0m\u001b[0;34m)\u001b[0m\u001b[0;34m\u001b[0m\u001b[0;34m\u001b[0m\u001b[0m\n",
            "\u001b[0;31mAttributeError\u001b[0m: 'numpy.ndarray' object has no attribute 'iloc'"
          ]
        }
      ]
    },
    {
      "cell_type": "code",
      "metadata": {
        "id": "RcZjmfRZecWU",
        "colab_type": "code",
        "colab": {}
      },
      "source": [
        "# # Splitting the dataset into the Training set and Test set\n",
        "# # from sklearn.model_selection import train_test_split\n",
        "# # X_train, X_test, y_train, y_test = train_test_split(X, Y, test_size = 0.25, random_state = 0,shuffle=False)\n",
        "# # #########\n",
        "# # from sklearn.model_selection import train_test_split  \n",
        "# # for n in range(2):\n",
        "# # \tX_train, X_test, y_train, y_test = train_test_split(X, Y, test_size=0.8, random_state=60)  \n",
        "# # \tif cv2.waitKey(1) == ord('q' or 'Q'): break \n",
        "\n",
        "# # Splitting the dataset into the Training set and Test set\n",
        "# # X = X.reshape(X.shape[1:])\n",
        "# # X = X.transpose()\n",
        "#  from sklearn.model_selection import train_test_split\n",
        "#  X_train, X_test, y_train, y_test = train_test_split(X, Y, test_size = 0.25, random_state = 0,shuffle=False)\n",
        "# Y.shape\n"
      ],
      "execution_count": 0,
      "outputs": []
    },
    {
      "cell_type": "code",
      "metadata": {
        "id": "RPc8FAC1U1XY",
        "colab_type": "code",
        "outputId": "af65b814-b8cb-4c90-f564-a8f04f2a6db1",
        "colab": {
          "base_uri": "https://localhost:8080/",
          "height": 34
        }
      },
      "source": [
        "#fITTING SIMPLE REGRESSION TO THE TRAINING SET\n",
        "from sklearn.linear_model import LinearRegression\n",
        "regressor=LinearRegression(copy_X=True, fit_intercept=True, n_jobs=-1, normalize=False)\n",
        "regressor.fit(X_train,y_train)\n",
        "#Predicting the test set result\n",
        "y_pred=regressor.predict(X_test)\n",
        "from sklearn.metrics import mean_squared_error\n",
        "from math import sqrt\n",
        "rmse = sqrt(mean_squared_error(y_test, y_pred))\n",
        "print (rmse)"
      ],
      "execution_count": 0,
      "outputs": [
        {
          "output_type": "stream",
          "text": [
            "121.27855075355988\n"
          ],
          "name": "stdout"
        }
      ]
    },
    {
      "cell_type": "code",
      "metadata": {
        "id": "nbUznrWef3mb",
        "colab_type": "code",
        "outputId": "e019dab2-64ad-41b0-b6f3-0960a7be5f48",
        "colab": {
          "base_uri": "https://localhost:8080/",
          "height": 34
        }
      },
      "source": [
        "error=error_function(y_test,y_pred)"
      ],
      "execution_count": 0,
      "outputs": [
        {
          "output_type": "stream",
          "text": [
            "5.967727669691405\n"
          ],
          "name": "stdout"
        }
      ]
    },
    {
      "cell_type": "code",
      "metadata": {
        "id": "zYP8VoeNDKEx",
        "colab_type": "code",
        "colab": {}
      },
      "source": [
        "from sklearn.svm import SVR\n",
        "from sklearn.ensemble import RandomForestRegressor\n",
        "from sklearn.linear_model import LogisticRegression\n",
        "from sklearn.neighbors import KNeighborsRegressor\n",
        "from sklearn.naive_bayes import GaussianNB #naiveayes can be used for regresio as well https://www.researchgate.net/publication/2360319_Naive_Bayes_for_Regression\n",
        "from xgboost import XGBRegressor,XGBRFRegressor\n",
        "from sklearn.ensemble import BaggingRegressor\n",
        "from sklearn import tree\n",
        "\n",
        "import lightgbm as lgb\n",
        "from sklearn.ensemble import GradientBoostingRegressor\n",
        "from sklearn.ensemble import AdaBoostRegressor\n",
        "# from catboost import CatBoostRegressor #ModuleNotFoundError: No module named 'catboost'\n",
        "from sklearn.ensemble import VotingRegressor\n",
        "from sklearn.model_selection import cross_val_score\n",
        "import cv2\n",
        "# import h2o\n",
        "from sklearn.linear_model import LinearRegression\n",
        "from sklearn.preprocessing import PolynomialFeatures\n",
        "from sklearn.linear_model import Lasso\n",
        "from sklearn.linear_model import Ridge\n",
        "from sklearn.linear_model import ElasticNet\n",
        "from sklearn.decomposition import PCA\n",
        "from sklearn.model_selection import GridSearchCV\n",
        "\n",
        "\n"
      ],
      "execution_count": 0,
      "outputs": []
    },
    {
      "cell_type": "code",
      "metadata": {
        "id": "vZvMovY8myqA",
        "colab_type": "code",
        "colab": {}
      },
      "source": [
        " #RandomForesrtRegressor\n",
        "from sklearn.ensemble import RandomForestRegressor \n",
        "regressor = RandomForestRegressor(bootstrap=True, ccp_alpha=0.0, criterion='mse',\n",
        "                      max_depth=None, max_features='auto', max_leaf_nodes=None,\n",
        "                      max_samples=None, min_impurity_decrease=0.0,\n",
        "                      min_impurity_split=None, min_samples_leaf=1,\n",
        "                      min_samples_split=2, min_weight_fraction_leaf=0.0,\n",
        "                      n_estimators=500, n_jobs=-1, oob_score=False,\n",
        "                      random_state=0, verbose=0, warm_start=False)\n",
        "regressor.fit(X_train, y_train)   \n",
        "y_pred = regressor.predict(X_test)\n",
        "rmse = sqrt(mean_squared_error(y_test, y_pred))\n"
      ],
      "execution_count": 0,
      "outputs": []
    },
    {
      "cell_type": "code",
      "metadata": {
        "id": "Y71Fh_ADnL4c",
        "colab_type": "code",
        "outputId": "b5f2bce7-bc62-4b58-ab1b-93dd6b3d630d",
        "colab": {
          "base_uri": "https://localhost:8080/",
          "height": 34
        }
      },
      "source": [
        "print(rmse)"
      ],
      "execution_count": 0,
      "outputs": [
        {
          "output_type": "stream",
          "text": [
            "112.26207217103749\n"
          ],
          "name": "stdout"
        }
      ]
    },
    {
      "cell_type": "code",
      "metadata": {
        "id": "n_lqnqi_nPVS",
        "colab_type": "code",
        "outputId": "cbf8a019-d6de-49b4-d5d2-b5141fe00696",
        "colab": {
          "base_uri": "https://localhost:8080/",
          "height": 34
        }
      },
      "source": [
        "error=error_function(y_test,y_pred)"
      ],
      "execution_count": 0,
      "outputs": [
        {
          "output_type": "stream",
          "text": [
            "5.513188746623992\n"
          ],
          "name": "stdout"
        }
      ]
    },
    {
      "cell_type": "code",
      "metadata": {
        "id": "AUnfYsp_nqgl",
        "colab_type": "code",
        "colab": {}
      },
      "source": [
        "import lightgbm as lgb\n",
        "lg = lgb.LGBMRegressor(boosting_type='gbdt', class_weight=None, colsample_bytree=1.0,\n",
        "              importance_type='split', learning_rate=0.1, max_depth=-1,\n",
        "              min_child_samples=20, min_child_weight=0.001, min_split_gain=0.0,\n",
        "              n_estimators=100, n_jobs=-1, num_leaves=31, objective=None,\n",
        "              random_state=None, reg_alpha=0.0, reg_lambda=0.0, silent=False,\n",
        "              subsample=1.0, subsample_for_bin=200000, subsample_freq=0)\n",
        "lg.fit(X_train, y_train)   \n",
        "y_pred = lg.predict(X_test)\n",
        "rmse = sqrt(mean_squared_error(y_test, y_pred))\n",
        "\n"
      ],
      "execution_count": 0,
      "outputs": []
    },
    {
      "cell_type": "code",
      "metadata": {
        "id": "sV7uOmMfDrYl",
        "colab_type": "code",
        "outputId": "9a26b472-3e2a-46d0-cc3c-897463245d6f",
        "colab": {
          "base_uri": "https://localhost:8080/",
          "height": 34
        }
      },
      "source": [
        "print(rmse)"
      ],
      "execution_count": 0,
      "outputs": [
        {
          "output_type": "stream",
          "text": [
            "111.91993912457541\n"
          ],
          "name": "stdout"
        }
      ]
    },
    {
      "cell_type": "code",
      "metadata": {
        "id": "jLiJaGVjDty6",
        "colab_type": "code",
        "outputId": "9984921c-7ed4-4ae8-c97e-7508aadd1252",
        "colab": {
          "base_uri": "https://localhost:8080/",
          "height": 34
        }
      },
      "source": [
        "error=error_function(y_test,y_pred)"
      ],
      "execution_count": 0,
      "outputs": [
        {
          "output_type": "stream",
          "text": [
            "5.4963507944382215\n"
          ],
          "name": "stdout"
        }
      ]
    },
    {
      "cell_type": "code",
      "metadata": {
        "id": "8ht4h-D7Dw_R",
        "colab_type": "code",
        "outputId": "603de938-d48f-472d-e36a-550b2b28eba1",
        "colab": {
          "base_uri": "https://localhost:8080/",
          "height": 102
        }
      },
      "source": [
        "RegressorXGB =XGBRegressor(base_score=0.5, booster='gbtree', colsample_bylevel=1,\n",
        "             colsample_bynode=1, colsample_bytree=1, gamma=0,\n",
        "             importance_type='gain', learning_rate=0.1, max_delta_step=0,\n",
        "             max_depth=10, min_child_weight=1, missing=None, n_estimators=500,\n",
        "             n_jobs=1, nthread=None, objective='reg:linear', random_state=0,\n",
        "             reg_alpha=1, reg_lambda=1, scale_pos_weight=1, seed=None,\n",
        "             silent=None, subsample=1, verbosity=1)\n",
        "RegressorXGB.fit(X_train,y_train)\n",
        "y_pred = RegressorXGB.predict(X_test)\n",
        "from sklearn.metrics import mean_squared_error\n",
        "from math import sqrt\n",
        "rmse = sqrt(mean_squared_error(y_test, y_pred))"
      ],
      "execution_count": 0,
      "outputs": [
        {
          "output_type": "stream",
          "text": [
            "/usr/local/lib/python3.6/dist-packages/xgboost/core.py:587: FutureWarning: Series.base is deprecated and will be removed in a future version\n",
            "  if getattr(data, 'base', None) is not None and \\\n",
            "/usr/local/lib/python3.6/dist-packages/xgboost/core.py:588: FutureWarning: Series.base is deprecated and will be removed in a future version\n",
            "  data.base is not None and isinstance(data, np.ndarray) \\\n"
          ],
          "name": "stderr"
        },
        {
          "output_type": "stream",
          "text": [
            "[18:12:22] WARNING: /workspace/src/objective/regression_obj.cu:152: reg:linear is now deprecated in favor of reg:squarederror.\n"
          ],
          "name": "stdout"
        }
      ]
    },
    {
      "cell_type": "code",
      "metadata": {
        "id": "G1vgYlVDFv4Q",
        "colab_type": "code",
        "outputId": "b1f90f86-6b52-48ca-a6cd-c9d097793bc2",
        "colab": {
          "base_uri": "https://localhost:8080/",
          "height": 34
        }
      },
      "source": [
        "print(rmse)"
      ],
      "execution_count": 0,
      "outputs": [
        {
          "output_type": "stream",
          "text": [
            "7.0359549775189025\n"
          ],
          "name": "stdout"
        }
      ]
    },
    {
      "cell_type": "code",
      "metadata": {
        "id": "aAzt9KceF2Hm",
        "colab_type": "code",
        "outputId": "eb9137b2-a537-446d-8156-18a301d2b8ff",
        "colab": {
          "base_uri": "https://localhost:8080/",
          "height": 34
        }
      },
      "source": [
        "error=error_function(y_test,y_pred)"
      ],
      "execution_count": 0,
      "outputs": [
        {
          "output_type": "stream",
          "text": [
            "0.12813175755250628\n"
          ],
          "name": "stdout"
        }
      ]
    },
    {
      "cell_type": "code",
      "metadata": {
        "id": "URvOWq4BF4Zd",
        "colab_type": "code",
        "outputId": "55ab16a8-967a-43c9-c522-dd53265912f8",
        "colab": {
          "base_uri": "https://localhost:8080/",
          "height": 34
        }
      },
      "source": [
        "# XGBRFRegressor\n",
        "RegressorXGBRF=XGBRFRegressor(base_score=0.5, colsample_bylevel=1, colsample_bynode=0.8,\n",
        "               colsample_bytree=1, gamma=0, learning_rate=1, max_delta_step=0,\n",
        "               max_depth=3, min_child_weight=1, missing=None, n_estimators=100,\n",
        "               n_jobs=1, nthread=None, objective='reg:linear', random_state=0,\n",
        "               reg_alpha=0, reg_lambda=1, scale_pos_weight=1, seed=None,\n",
        "               silent=None, subsample=0.8, verbosity=1)\n",
        "\n",
        "RegressorXGBRF.fit(X_train,y_train)\n",
        "y_pred = RegressorXGBRF.predict(X_test)\n",
        "rmse = sqrt(mean_squared_error(y_test, y_pred))"
      ],
      "execution_count": 0,
      "outputs": [
        {
          "output_type": "stream",
          "text": [
            "[19:22:01] WARNING: /workspace/src/objective/regression_obj.cu:152: reg:linear is now deprecated in favor of reg:squarederror.\n"
          ],
          "name": "stdout"
        }
      ]
    },
    {
      "cell_type": "code",
      "metadata": {
        "id": "d68AGoTuGNXb",
        "colab_type": "code",
        "outputId": "f320424e-af03-43ee-bfde-ba7d79d7aee4",
        "colab": {
          "base_uri": "https://localhost:8080/",
          "height": 34
        }
      },
      "source": [
        "print(rmse)"
      ],
      "execution_count": 0,
      "outputs": [
        {
          "output_type": "stream",
          "text": [
            "496.8637469282849\n"
          ],
          "name": "stdout"
        }
      ]
    },
    {
      "cell_type": "code",
      "metadata": {
        "id": "xTqzUikkGceq",
        "colab_type": "code",
        "outputId": "b0e84fe2-bd41-4289-a4c3-636eb5e41c05",
        "colab": {
          "base_uri": "https://localhost:8080/",
          "height": 34
        }
      },
      "source": [
        "error=error_function(y_test,y_pred)"
      ],
      "execution_count": 0,
      "outputs": [
        {
          "output_type": "stream",
          "text": [
            "4.333575512224312\n"
          ],
          "name": "stdout"
        }
      ]
    },
    {
      "cell_type": "code",
      "metadata": {
        "id": "JePGuGXkGeWS",
        "colab_type": "code",
        "colab": {}
      },
      "source": [
        "#Adaboost regressor\n",
        "regressorAB =AdaBoostRegressor(base_estimator=None, learning_rate=0.25, loss='linear',\n",
        "                  n_estimators=500, random_state=None)\n",
        "\n",
        "regressorAB.fit(X_train,y_train)\n",
        "y_pred = regressorAB.predict(X_test)\n",
        "rmse = sqrt(mean_squared_error(y_test, y_pred))"
      ],
      "execution_count": 0,
      "outputs": []
    },
    {
      "cell_type": "code",
      "metadata": {
        "id": "xNeWzsKFI7XN",
        "colab_type": "code",
        "outputId": "0c3284d2-56fc-49bd-8ac4-7c764e77b7c8",
        "colab": {
          "base_uri": "https://localhost:8080/",
          "height": 34
        }
      },
      "source": [
        "print(rmse)"
      ],
      "execution_count": 0,
      "outputs": [
        {
          "output_type": "stream",
          "text": [
            "602.2791886633504\n"
          ],
          "name": "stdout"
        }
      ]
    },
    {
      "cell_type": "code",
      "metadata": {
        "id": "F5K2YmVqI9nR",
        "colab_type": "code",
        "outputId": "414b1259-6871-4efc-e46b-5a93f0116550",
        "colab": {
          "base_uri": "https://localhost:8080/",
          "height": 34
        }
      },
      "source": [
        "\n",
        "error=error_function(y_test,y_pred)"
      ],
      "execution_count": 0,
      "outputs": [
        {
          "output_type": "stream",
          "text": [
            "7.298649906081067\n"
          ],
          "name": "stdout"
        }
      ]
    },
    {
      "cell_type": "code",
      "metadata": {
        "id": "5mS9zF72JALO",
        "colab_type": "code",
        "colab": {}
      },
      "source": [
        ""
      ],
      "execution_count": 0,
      "outputs": []
    }
  ]
}