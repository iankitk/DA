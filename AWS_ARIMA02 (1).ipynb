{
 "cells": [
  {
   "cell_type": "code",
   "execution_count": 2,
   "metadata": {},
   "outputs": [],
   "source": [
    "import pandas as pd\n",
    "from pandas import Series, DataFrame\n",
    "import numpy as np\n",
    "import matplotlib.pyplot as plt\n",
    "import statsmodels.api as sm"
   ]
  },
  {
   "cell_type": "code",
   "execution_count": 9,
   "metadata": {},
   "outputs": [
    {
     "name": "stdout",
     "output_type": "stream",
     "text": [
      "Date\n",
      "01/01/2012    28.0\n",
      "02/01/2012    28.0\n",
      "03/01/2012    29.5\n",
      "04/01/2012    36.5\n",
      "05/01/2012    26.0\n",
      "06/01/2012    21.5\n",
      "07/01/2012    26.5\n",
      "08/01/2012    29.5\n",
      "09/01/2012    27.5\n",
      "10/01/2012    29.5\n",
      "11/01/2012    27.5\n",
      "12/01/2012    22.0\n",
      "13/01/2012    27.0\n",
      "14/01/2012    22.0\n",
      "15/01/2012    24.0\n",
      "16/01/2012    25.0\n",
      "17/01/2012    26.5\n",
      "18/01/2012    30.0\n",
      "19/01/2012    27.0\n",
      "20/01/2012    26.5\n",
      "Name: T.Max, dtype: float64\n"
     ]
    },
    {
     "data": {
      "image/png": "[encoded data removed]",
      "text/plain": [
       "<Figure size 432x288 with 1 Axes>"
      ]
     },
     "metadata": {
      "needs_background": "light"
     },
     "output_type": "display_data"
    }
   ],
   "source": [
    "data=pd.read_csv('Book1.csv')\n",
    "TestData=pd.read_csv('test_sydolymprk.csv')\n",
    "data.index = pd.to_datetime(data.index)\n",
    "series=data.set_index(['Date'])\n",
    "from datetime import datetime\n",
    "series=series.iloc[:, 1]\n",
    "series.head()\n",
    "print(series.head(20))\n",
    "# line plot of dataset\n",
    "series.plot()\n",
    "pyplot.show()"
   ]
  },
  {
   "cell_type": "code",
   "execution_count": 10,
   "metadata": {},
   "outputs": [],
   "source": [
    "def difference(dataset, interval=1):\n",
    "\tdiff = list()\n",
    "\tfor i in range(interval, len(dataset)):\n",
    "\t\tvalue = dataset[i] - dataset[i - interval]\n",
    "\t\tdiff.append(value)\n",
    "\treturn numpy.array(diff)"
   ]
  },
  {
   "cell_type": "code",
   "execution_count": 11,
   "metadata": {},
   "outputs": [],
   "source": [
    "def inverse_difference(history, yhat, interval=1):\n",
    "\treturn yhat + history[-interval]"
   ]
  },
  {
   "cell_type": "code",
   "execution_count": 13,
   "metadata": {},
   "outputs": [
    {
     "name": "stdout",
     "output_type": "stream",
     "text": [
      "                              ARMA Model Results                              \n",
      "==============================================================================\n",
      "Dep. Variable:                      y   No. Observations:                 1827\n",
      "Model:                     ARMA(7, 1)   Log Likelihood               -5473.754\n",
      "Method:                       css-mle   S.D. of innovations              4.841\n",
      "Date:                Sat, 02 Nov 2019   AIC                          10967.508\n",
      "Time:                        20:12:33   BIC                          11022.612\n",
      "Sample:                             0   HQIC                         10987.834\n",
      "                                                                              \n",
      "==============================================================================\n",
      "                 coef    std err          z      P>|z|      [0.025      0.975]\n",
      "------------------------------------------------------------------------------\n",
      "const          0.2633      0.202      1.306      0.192      -0.132       0.658\n",
      "ar.L1.y       -0.2406      0.185     -1.302      0.193      -0.603       0.122\n",
      "ar.L2.y        0.1708      0.078      2.185      0.029       0.018       0.324\n",
      "ar.L3.y       -0.0275      0.030     -0.919      0.358      -0.086       0.031\n",
      "ar.L4.y        0.0281      0.025      1.122      0.262      -0.021       0.077\n",
      "ar.L5.y        0.0550      0.024      2.261      0.024       0.007       0.103\n",
      "ar.L6.y        0.0867      0.025      3.435      0.001       0.037       0.136\n",
      "ar.L7.y        0.0009      0.027      0.036      0.972      -0.051       0.053\n",
      "ma.L1.y        0.6504      0.183      3.548      0.000       0.291       1.010\n",
      "                                    Roots                                    \n",
      "=============================================================================\n",
      "                  Real          Imaginary           Modulus         Frequency\n",
      "-----------------------------------------------------------------------------\n",
      "AR.1            1.4025           -0.0000j            1.4025           -0.0000\n",
      "AR.2            0.6733           -1.3680j            1.5247           -0.1772\n",
      "AR.3            0.6733           +1.3680j            1.5247            0.1772\n",
      "AR.4           -1.3220           -0.0000j            1.3220           -0.5000\n",
      "AR.5           -1.0312           -1.2772j            1.6416           -0.3581\n",
      "AR.6           -1.0312           +1.2772j            1.6416            0.3581\n",
      "AR.7          -90.7161           -0.0000j           90.7161           -0.5000\n",
      "MA.1           -1.5376           +0.0000j            1.5376            0.5000\n",
      "-----------------------------------------------------------------------------\n"
     ]
    }
   ],
   "source": [
    "from statsmodels.tsa.arima_model import ARIMA\n",
    "import numpy\n",
    " \n",
    "# create a differenced series\n",
    "def difference(dataset, interval=1):\n",
    "\tdiff = list()\n",
    "\tfor i in range(interval, len(dataset)):\n",
    "\t\tvalue = dataset[i] - dataset[i - interval]\n",
    "\t\tdiff.append(value)\n",
    "\treturn numpy.array(diff)\n",
    " \n",
    "\n",
    "# seasonal difference\n",
    "X = series.values\n",
    "days_in_year = 365\n",
    "differenced = difference(X, days_in_year)\n",
    "# fit model\n",
    "model = ARIMA(differenced, order=(7,0,1))\n",
    "model_fit = model.fit(disp=0)\n",
    "# print summary of fit model\n",
    "print(model_fit.summary())"
   ]
  },
  {
   "cell_type": "code",
   "execution_count": 15,
   "metadata": {},
   "outputs": [
    {
     "name": "stdout",
     "output_type": "stream",
     "text": [
      "Forecast: 27.209625\n"
     ]
    }
   ],
   "source": [
    "forecast = model_fit.forecast()[0]\n",
    "forecast = inverse_difference(X, forecast, days_in_year)\n",
    "print('Forecast: %f' % forecast)"
   ]
  },
  {
   "cell_type": "code",
   "execution_count": 16,
   "metadata": {},
   "outputs": [
    {
     "name": "stdout",
     "output_type": "stream",
     "text": [
      "Day 1: 27.209625\n",
      "Day 2: 25.390279\n",
      "Day 3: 26.368287\n",
      "Day 4: 25.970823\n",
      "Day 5: 25.253043\n",
      "Day 6: 26.506580\n",
      "Day 7: 27.706758\n"
     ]
    }
   ],
   "source": [
    "start_index = len(differenced)\n",
    "end_index = start_index + 6\n",
    "forecast = model_fit.predict(start=start_index, end=end_index)\n",
    "# invert the differenced forecast to something usable\n",
    "history = [x for x in X]\n",
    "day = 1\n",
    "for yhat in forecast:\n",
    "\tinverted = inverse_difference(history, yhat, days_in_year)\n",
    "\tprint('Day %d: %f' % (day, inverted))\n",
    "\thistory.append(inverted)\n",
    "\tday += 1"
   ]
  },
  {
   "cell_type": "code",
   "execution_count": null,
   "metadata": {},
   "outputs": [],
   "source": []
  }
 ],
 "metadata": {
  "kernelspec": {
   "display_name": "Python 3",
   "language": "python",
   "name": "python3"
  },
  "language_info": {
   "codemirror_mode": {
    "name": "ipython",
    "version": 3
   },
   "file_extension": ".py",
   "mimetype": "text/x-python",
   "name": "python",
   "nbconvert_exporter": "python",
   "pygments_lexer": "ipython3",
   "version": "3.7.1"
  }
 },
 "nbformat": 4,
 "nbformat_minor": 2
}
